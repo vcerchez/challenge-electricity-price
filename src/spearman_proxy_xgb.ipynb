{
 "cells": [
  {
   "cell_type": "code",
   "execution_count": 1,
   "metadata": {},
   "outputs": [],
   "source": [
    "import numpy as np\n",
    "import pandas as pd\n",
    "import torch\n",
    "import xgboost as xgb\n",
    "from typing import Optional, Literal, Union\n",
    "\n",
    "# we use a local copy of the fast_soft_sort manually downloaded from\n",
    "# https://github.com/google-research/fast-soft-sort/tree/master\n",
    "from fast_soft_sort.pytorch_ops import soft_rank"
   ]
  },
  {
   "cell_type": "markdown",
   "metadata": {},
   "source": [
    "## Differentiable proxy to Spearman corr"
   ]
  },
  {
   "cell_type": "markdown",
   "metadata": {},
   "source": [
    "Based on the [\"Fast Differentiable Sorting and Ranking\"](https://arxiv.org/abs/2002.08871) article and [their implementation](https://github.com/google-research/fast-soft-sort/). Further inspiration for the implimentation of the Spearman corr taken from [here](https://forum.numer.ai/t/differentiable-spearman-in-pytorch-optimize-for-corr-directly/2287) and for the XGBoost custom objective function from [here](https://forum.numer.ai/t/custom-loss-functions-for-xgboost-using-pytorch/960).\n",
    "\n",
    "One of the limitations of the **fast-soft-sort** implementations is that the soft rank is only once differenciable (seemingly the artifact of the implementation of the core functions in numpy). There is [another implementation](https://github.com/teddykoker/torchsort) of the same functions fully written in Pytorch and cpp. However, it requires installation of a cpp compiler and was not tested here due to the absence of admin rights on Windows."
   ]
  },
  {
   "cell_type": "markdown",
   "metadata": {},
   "source": [
    "First test `soft_rank` func:"
   ]
  },
  {
   "cell_type": "code",
   "execution_count": 2,
   "metadata": {},
   "outputs": [
    {
     "name": "stdout",
     "output_type": "stream",
     "text": [
      "regularization = 0.0001\tranks = 3.0001, 3.9861, 1.0000, 1.9999\n",
      "regularization = 1.0\tranks = 3.0000, 4.0000, 1.0000, 2.0000\n",
      "regularization = 10.0\tranks = 2.3431, 4.0000, 1.4940, 2.1629\n"
     ]
    }
   ],
   "source": [
    "torch.manual_seed(0)\n",
    "vals = torch.tensor([[1., 10., -3.5, 0.2]]) # true ranks = [3, 4, 1, 2]\n",
    "regularization = \"kl\"\n",
    "regularization_strength = 1e+1\n",
    "\n",
    "for rs in [1e-4, 1e-0, 1e+1]:\n",
    "    sr = soft_rank(vals, regularization=regularization, regularization_strength=rs)\n",
    "    print(f'regularization = {rs}\\tranks = {\", \".join([f\"{v:.4f}\" for v in sr[0].numpy()])}')"
   ]
  },
  {
   "cell_type": "markdown",
   "metadata": {},
   "source": [
    "Implement code for the Spearman corr proxy:"
   ]
  },
  {
   "cell_type": "code",
   "execution_count": 3,
   "metadata": {},
   "outputs": [
    {
     "name": "stdout",
     "output_type": "stream",
     "text": [
      "exact Spearman 0.7696969696969697\n",
      "proxy Spearman 0.7461341619491577\n",
      "gradient tensor([[ 0.0396,  0.4432, -0.2201, -0.3483, -0.2150,  0.0446, -0.4583,  0.1120,\n",
      "          0.2307,  0.3715]])\n"
     ]
    }
   ],
   "source": [
    "def corrcoef(ytrue: torch.tensor, ypred: torch.tensor) -> float:\n",
    "    \"\"\"Calculate Pearson correlation coeff.\"\"\"\n",
    "    ypred_n = ypred - ypred.mean()\n",
    "    ytrue_n = ytrue - ytrue.mean()\n",
    "    ypred_n = ypred_n / ypred_n.norm()\n",
    "    ytrue_n = ytrue_n / ytrue_n.norm()\n",
    "    \n",
    "    return (ypred_n * ytrue_n).sum()\n",
    "\n",
    "def spearman_proxy(\n",
    "    ytrue: torch.tensor,\n",
    "    ypred: torch.tensor,\n",
    "    regularization: Optional[Literal[\"l2\", \"kl\"]] = \"l2\",\n",
    "    regularization_strength: Optional[float] = 0.0001\n",
    "    ) -> float:\n",
    "    \"\"\"Calculate differantiable proxy to Spearman corr.\"\"\"\n",
    "    # calculate soft (differantiable) rank\n",
    "    ytrue_rank = soft_rank(\n",
    "        ytrue,\n",
    "        regularization=regularization,\n",
    "        regularization_strength=regularization_strength,\n",
    "        )\n",
    "    \n",
    "    ypred_rank = soft_rank(\n",
    "        ypred,\n",
    "        regularization=regularization,\n",
    "        regularization_strength=regularization_strength,\n",
    "        )\n",
    "    \n",
    "    # calculate and return Pearson corr of ranks\n",
    "    return corrcoef(ytrue_rank, ypred_rank)\n",
    "\n",
    "def spearman_exact(ytrue: torch.tensor, ypred: torch.tensor) -> float:\n",
    "    \"\"\"Calculate exact Spearman corr.\"\"\"\n",
    "    ytrue_rank = pd.Series(ytrue[0]).rank()\n",
    "    ypred_rank = pd.Series(ypred.detach().numpy()[0]).rank()\n",
    "    return np.corrcoef(ytrue_rank, ypred_rank)[0, 1]\n",
    "\n",
    "# Test the code\n",
    "torch.manual_seed(0)\n",
    "ytrue = torch.rand(1, 10)\n",
    "ypred = torch.rand(1, 10, requires_grad = True)\n",
    "regularization_strength = 1e-1\n",
    "\n",
    "print(\"exact Spearman\", spearman_exact(ytrue, ypred))\n",
    "\n",
    "spear = spearman_proxy(ytrue, ypred, regularization_strength=regularization_strength)\n",
    "grad = torch.autograd.grad(spear, ypred)[0]\n",
    "print(\"proxy Spearman\", spear.item())\n",
    "print(\"gradient\", grad)"
   ]
  },
  {
   "cell_type": "markdown",
   "metadata": {},
   "source": [
    "## XGBoost with Spearman corr or soft rank as objective"
   ]
  },
  {
   "cell_type": "code",
   "execution_count": 4,
   "metadata": {},
   "outputs": [],
   "source": [
    "regularization_strength = 1.1\n",
    "\n",
    "def spearman_proxy_obj(ytrue: Union[np.ndarray, xgb.DMatrix], ypred: Union[np.ndarray, xgb.DMatrix]) -> tuple[np.ndarray, np.ndarray]:\n",
    "    \"\"\"Compute gradient and hessian of the Spearman corr as objective func.\"\"\"\n",
    "    # convert DMatrix to ndarray, for the use in xgb.cv()\n",
    "    if isinstance(ytrue, xgb.core.DMatrix):\n",
    "        ytrue = ytrue.get_label()\n",
    "    if isinstance(ypred, xgb.core.DMatrix):\n",
    "        ypred = ypred.get_label()\n",
    "    \n",
    "    # soft rank expects a 2d tensor\n",
    "    ytrue = ytrue.reshape(1, -1)\n",
    "    ypred = ypred.reshape(1, -1)\n",
    "\n",
    "    # convert to pytorch tensors\n",
    "    ytrue_th = torch.tensor(ytrue)\n",
    "    ypred_th = torch.tensor(ypred, requires_grad=True)\n",
    "\n",
    "    spear_th = spearman_proxy(ytrue_th, ypred_th, regularization_strength=regularization_strength)\n",
    "    grad_th = torch.autograd.grad(spear_th, ypred_th)\n",
    "\n",
    "    # Convert grad to numpy, set hessian to ones since soft rank is not twice\n",
    "    # differantiable (seems that internally at some point soft_rank uses numpy\n",
    "    # arrays which detaches the operations from the computational graph of pytorch).\n",
    "    grad = grad_th[0].detach().numpy().squeeze()\n",
    "    hess = np.ones(grad.shape)\n",
    "\n",
    "    return grad, hess\n",
    "\n",
    "def soft_rank_obj(ytrue: Union[np.ndarray, xgb.DMatrix], ypred: Union[np.ndarray, xgb.DMatrix]) -> tuple[np.ndarray, np.ndarray]:\n",
    "    \"\"\"Compute gradient and hessian of the soft rank as objective func.\"\"\"\n",
    "    # convert DMatrix to ndarray, for the use in xgb.cv()\n",
    "    if isinstance(ytrue, xgb.core.DMatrix):\n",
    "        ytrue = ytrue.get_label()\n",
    "    if isinstance(ypred, xgb.core.DMatrix):\n",
    "        ypred = ypred.get_label()\n",
    "    \n",
    "    # soft rank expects a 2d tensor\n",
    "    ytrue = ytrue.reshape(1, -1)\n",
    "    ypred = ypred.reshape(1, -1)\n",
    "\n",
    "    # convert to pytorch tensors\n",
    "    ytrue_th = torch.tensor(ytrue)\n",
    "    ypred_th = torch.tensor(ypred, requires_grad=True)\n",
    "\n",
    "    # rank  true values\n",
    "    ytrue_rank_th = torch.empty(ytrue_th.size(), dtype=torch.float64)\n",
    "    ytrue_rank_th[0, ytrue_th.argsort()] = torch.arange(1, ytrue_th.size(dim=1) + 1, dtype=torch.float64)\n",
    "    # soft rank predictions\n",
    "    ypred_rank_th = soft_rank(ypred_th, regularization_strength=regularization_strength)\n",
    "    # squared rank difference (similar to the approach in \"Fast Differentiable Sorting and Ranking\" article)\n",
    "    ssr = torch.linalg.matrix_norm(ytrue_rank_th - ypred_rank_th)\n",
    "    \n",
    "    # grad of ssr\n",
    "    grad_th = torch.autograd.grad(ssr, ypred_th)\n",
    "\n",
    "    # Convert grad to numpy, set hessian to ones since soft rank is not twice\n",
    "    # differantiable (seems that internally at some point soft_rank uses numpy\n",
    "    # arrays which detaches the operations from the computational graph of pytorch).\n",
    "    grad = grad_th[0].detach().numpy().squeeze()\n",
    "    hess = np.ones(grad.shape)\n",
    "\n",
    "    return grad, hess"
   ]
  },
  {
   "cell_type": "markdown",
   "metadata": {},
   "source": [
    "Test Spearman proxy objective function:"
   ]
  },
  {
   "cell_type": "code",
   "execution_count": 5,
   "metadata": {},
   "outputs": [
    {
     "name": "stdout",
     "output_type": "stream",
     "text": [
      "[[ 0.34558419  0.82161814  0.33043708 -1.30315723  0.90535587  0.44637457\n",
      "  -0.53695324  0.5811181   0.3645724   0.2941325 ]]\n",
      "[[ 0.02842224  0.54671299 -0.73645409 -0.16290995 -0.48211931  0.59884621\n",
      "   0.03972211 -0.29245675 -0.78190846 -0.25719224]]\n"
     ]
    },
    {
     "data": {
      "text/plain": [
       "(array([ 0.04148875,  0.20659941,  0.04208716, -0.54291224,  0.24440162,\n",
       "         0.0728451 , -0.27221832,  0.12769731,  0.05457294,  0.02543828]),\n",
       " array([1., 1., 1., 1., 1., 1., 1., 1., 1., 1.]))"
      ]
     },
     "execution_count": 5,
     "metadata": {},
     "output_type": "execute_result"
    }
   ],
   "source": [
    "rng = np.random.default_rng(1)\n",
    "\n",
    "ytrue = rng.normal(size=(1, 10))\n",
    "ypred = rng.normal(size=(1, 10))\n",
    "\n",
    "print(ytrue)\n",
    "print(ypred)\n",
    "spearman_proxy_obj(ytrue, ypred)"
   ]
  },
  {
   "cell_type": "markdown",
   "metadata": {},
   "source": [
    "Test soft rank objective function:"
   ]
  },
  {
   "cell_type": "code",
   "execution_count": 6,
   "metadata": {},
   "outputs": [
    {
     "data": {
      "text/plain": [
       "(array([ 0.00235569, -0.57308412, -0.12399495,  0.69472338]),\n",
       " array([1., 1., 1., 1.]))"
      ]
     },
     "execution_count": 6,
     "metadata": {},
     "output_type": "execute_result"
    }
   ],
   "source": [
    "rng = np.random.default_rng(1)\n",
    "\n",
    "ytrue = rng.normal(size=(1, 4))\n",
    "ypred = rng.normal(size=(1, 4))\n",
    "\n",
    "soft_rank_obj(ytrue, ypred)"
   ]
  },
  {
   "cell_type": "markdown",
   "metadata": {},
   "source": [
    "Custom evaluation (metric) for the two objective funcs:"
   ]
  },
  {
   "cell_type": "code",
   "execution_count": 7,
   "metadata": {},
   "outputs": [],
   "source": [
    "def spearman_eval(ypred: Union[np.ndarray, xgb.DMatrix], ytrue: Union[np.ndarray, xgb.DMatrix]) -> tuple[str, float]:\n",
    "    \"\"\"(exact) Spearman correlation metric.\"\"\"\n",
    "    if isinstance(ytrue, xgb.core.DMatrix):\n",
    "        ytrue = ytrue.get_label()\n",
    "    if isinstance(ypred, xgb.core.DMatrix):\n",
    "        ypred = ypred.get_label()\n",
    "    \n",
    "    ytrue = ytrue.squeeze()\n",
    "    ypred = ypred.squeeze()\n",
    "    \n",
    "    spear_corr = pd.DataFrame({\"ytrue\": ytrue, \"ypred\": ypred}).corr(\"spearman\").iloc[0, 1]\n",
    "\n",
    "    return (\"Spear_corr\", spear_corr)\n",
    "\n",
    "def soft_rank_eval(ypred: Union[np.ndarray, xgb.DMatrix], ytrue: Union[np.ndarray, xgb.DMatrix]) -> tuple[str, float]:\n",
    "    \"\"\"Root mean squared difference between exact ranks for the y_true and y_pred.\"\"\"\n",
    "    if isinstance(ytrue, xgb.core.DMatrix):\n",
    "        ytrue = ytrue.get_label()\n",
    "    if isinstance(ypred, xgb.core.DMatrix):\n",
    "        ypred = ypred.get_label()\n",
    "    \n",
    "    # convert to pytorch tensors\n",
    "    ypred_th = torch.tensor(ypred.reshape(1, -1))\n",
    "    ytrue_th = torch.tensor(ytrue.reshape(1, -1))\n",
    "    \n",
    "    # rank  values\n",
    "    ypred_rank_th = torch.empty(ypred_th.size(), dtype=torch.float64)\n",
    "    ypred_rank_th[0, ypred_th.argsort()] = torch.arange(1, ypred_th.size(dim=1) + 1, dtype=torch.float64)\n",
    "    ytrue_rank_th = torch.empty(ytrue_th.size(), dtype=torch.float64)\n",
    "    ytrue_rank_th[0, ytrue_th.argsort()] = torch.arange(1, ytrue_th.size(dim=1) + 1, dtype=torch.float64)\n",
    "    \n",
    "    # squared rank difference (similar to the approach in \"Fast Differentiable Sorting and Ranking\" article)\n",
    "    ssr = torch.linalg.matrix_norm(ytrue_rank_th - ypred_rank_th) / np.sqrt(ytrue_rank_th.size(dim=1))\n",
    "\n",
    "    return (\"RMSRD\", ssr)"
   ]
  },
  {
   "cell_type": "markdown",
   "metadata": {},
   "source": [
    "Test Spearman corr evaluation function:"
   ]
  },
  {
   "cell_type": "code",
   "execution_count": 8,
   "metadata": {},
   "outputs": [
    {
     "data": {
      "text/plain": [
       "('Spear_corr', -0.04242424242424243)"
      ]
     },
     "execution_count": 8,
     "metadata": {},
     "output_type": "execute_result"
    }
   ],
   "source": [
    "rng = np.random.default_rng(1)\n",
    "\n",
    "ytrue = rng.normal(size=(1, 10))\n",
    "ypred = rng.normal(size=(1, 10))\n",
    "\n",
    "spearman_eval(ytrue, ypred)"
   ]
  },
  {
   "cell_type": "markdown",
   "metadata": {},
   "source": [
    "The following should evaluate to 1:"
   ]
  },
  {
   "cell_type": "code",
   "execution_count": 9,
   "metadata": {},
   "outputs": [
    {
     "data": {
      "text/plain": [
       "('Spear_corr', 1.0)"
      ]
     },
     "execution_count": 9,
     "metadata": {},
     "output_type": "execute_result"
    }
   ],
   "source": [
    "spearman_eval(ytrue, ytrue)"
   ]
  },
  {
   "cell_type": "markdown",
   "metadata": {},
   "source": [
    "Test root mean squared difference between exact ranks evaluation function:"
   ]
  },
  {
   "cell_type": "code",
   "execution_count": 10,
   "metadata": {},
   "outputs": [
    {
     "data": {
      "text/plain": [
       "('RMSRD', tensor(4.1473, dtype=torch.float64))"
      ]
     },
     "execution_count": 10,
     "metadata": {},
     "output_type": "execute_result"
    }
   ],
   "source": [
    "rng = np.random.default_rng(1)\n",
    "\n",
    "ytrue = rng.normal(size=(1, 10))\n",
    "ypred = rng.normal(size=(1, 10))\n",
    "\n",
    "soft_rank_eval(ytrue, ypred)"
   ]
  },
  {
   "cell_type": "markdown",
   "metadata": {},
   "source": [
    "The following should evaluate to 0:"
   ]
  },
  {
   "cell_type": "code",
   "execution_count": 11,
   "metadata": {},
   "outputs": [
    {
     "data": {
      "text/plain": [
       "('RMSRD', tensor(0., dtype=torch.float64))"
      ]
     },
     "execution_count": 11,
     "metadata": {},
     "output_type": "execute_result"
    }
   ],
   "source": [
    "soft_rank_eval(ytrue, ytrue)"
   ]
  },
  {
   "cell_type": "markdown",
   "metadata": {},
   "source": [
    "### Load and prepare data"
   ]
  },
  {
   "cell_type": "code",
   "execution_count": 13,
   "metadata": {},
   "outputs": [],
   "source": [
    "X_train_raw = pd.read_csv(r\"../data/X_train.csv\")\n",
    "X_test_raw = pd.read_csv(r\"../data/X_test.csv\")\n",
    "y_train = pd.read_csv(r\"../data/y_train.csv\")"
   ]
  },
  {
   "cell_type": "markdown",
   "metadata": {},
   "source": [
    "Mask data for FR and DE:"
   ]
  },
  {
   "cell_type": "code",
   "execution_count": 14,
   "metadata": {},
   "outputs": [],
   "source": [
    "mask_train_FR = X_train_raw[\"COUNTRY\"] == \"FR\"\n",
    "mask_test_FR = X_test_raw[\"COUNTRY\"] == \"FR\""
   ]
  },
  {
   "cell_type": "markdown",
   "metadata": {},
   "source": [
    "Drop unsuded cols:"
   ]
  },
  {
   "cell_type": "code",
   "execution_count": 15,
   "metadata": {},
   "outputs": [],
   "source": [
    "columns_to_drop = [\"ID\", \"DAY_ID\", \"COUNTRY\", \"DE_FR_EXCHANGE\", \"FR_NET_IMPORT\", \"DE_NET_IMPORT\"]\n",
    "\n",
    "X_train = X_train_raw.drop(columns_to_drop, axis=1)\n",
    "X_test = X_test_raw.drop(columns_to_drop, axis=1)\n",
    "y_train = y_train[\"TARGET\"]"
   ]
  },
  {
   "cell_type": "markdown",
   "metadata": {},
   "source": [
    "Standartize vars:"
   ]
  },
  {
   "cell_type": "code",
   "execution_count": 16,
   "metadata": {},
   "outputs": [],
   "source": [
    "X_train = (X_train - X_train.mean()) / X_train.std()\n",
    "X_test = (X_test - X_test.mean()) / X_test.std()"
   ]
  },
  {
   "cell_type": "markdown",
   "metadata": {},
   "source": [
    "Fill-in NAs:"
   ]
  },
  {
   "cell_type": "code",
   "execution_count": 17,
   "metadata": {},
   "outputs": [],
   "source": [
    "X_train = X_train.fillna(0)\n",
    "X_test = X_test.fillna(0)"
   ]
  },
  {
   "cell_type": "markdown",
   "metadata": {},
   "source": [
    "### Train booster with ordinary MSE obj and RMSE eval:"
   ]
  },
  {
   "cell_type": "markdown",
   "metadata": {},
   "source": [
    "Convert training data to DMatrix:"
   ]
  },
  {
   "cell_type": "code",
   "execution_count": 18,
   "metadata": {},
   "outputs": [],
   "source": [
    "X_train_dm = xgb.DMatrix(data=X_train, label=y_train)\n",
    "X_test_dm = xgb.DMatrix(data=X_test, label=None)"
   ]
  },
  {
   "cell_type": "markdown",
   "metadata": {},
   "source": [
    "Cross validation:"
   ]
  },
  {
   "cell_type": "code",
   "execution_count": 19,
   "metadata": {},
   "outputs": [
    {
     "name": "stdout",
     "output_type": "stream",
     "text": [
      "[0]\ttrain-rmse:1.11042+0.01607\ttest-rmse:1.10916+0.06352\n"
     ]
    },
    {
     "name": "stdout",
     "output_type": "stream",
     "text": [
      "[10]\ttrain-rmse:1.09203+0.01589\ttest-rmse:1.09396+0.06396\n",
      "[20]\ttrain-rmse:1.07641+0.01581\ttest-rmse:1.08108+0.06385\n",
      "[30]\ttrain-rmse:1.06291+0.01557\ttest-rmse:1.07010+0.06398\n",
      "[40]\ttrain-rmse:1.05138+0.01539\ttest-rmse:1.06085+0.06394\n",
      "[50]\ttrain-rmse:1.04149+0.01526\ttest-rmse:1.05331+0.06369\n",
      "[60]\ttrain-rmse:1.03295+0.01512\ttest-rmse:1.04725+0.06351\n",
      "[70]\ttrain-rmse:1.02574+0.01492\ttest-rmse:1.04254+0.06340\n",
      "[80]\ttrain-rmse:1.01954+0.01476\ttest-rmse:1.03874+0.06341\n",
      "[90]\ttrain-rmse:1.01411+0.01460\ttest-rmse:1.03573+0.06321\n",
      "[100]\ttrain-rmse:1.00934+0.01439\ttest-rmse:1.03343+0.06295\n",
      "[110]\ttrain-rmse:1.00514+0.01429\ttest-rmse:1.03167+0.06279\n",
      "[120]\ttrain-rmse:1.00124+0.01427\ttest-rmse:1.03021+0.06245\n",
      "[130]\ttrain-rmse:0.99773+0.01422\ttest-rmse:1.02917+0.06226\n",
      "[140]\ttrain-rmse:0.99463+0.01413\ttest-rmse:1.02820+0.06219\n",
      "[150]\ttrain-rmse:0.99181+0.01407\ttest-rmse:1.02768+0.06200\n",
      "[160]\ttrain-rmse:0.98921+0.01394\ttest-rmse:1.02736+0.06181\n",
      "[170]\ttrain-rmse:0.98678+0.01378\ttest-rmse:1.02702+0.06168\n",
      "[180]\ttrain-rmse:0.98459+0.01366\ttest-rmse:1.02695+0.06151\n",
      "[190]\ttrain-rmse:0.98266+0.01357\ttest-rmse:1.02693+0.06144\n",
      "[200]\ttrain-rmse:0.98083+0.01344\ttest-rmse:1.02703+0.06140\n",
      "[210]\ttrain-rmse:0.97911+0.01335\ttest-rmse:1.02721+0.06140\n",
      "[220]\ttrain-rmse:0.97743+0.01326\ttest-rmse:1.02738+0.06140\n",
      "[230]\ttrain-rmse:0.97584+0.01315\ttest-rmse:1.02769+0.06149\n",
      "[240]\ttrain-rmse:0.97429+0.01305\ttest-rmse:1.02796+0.06159\n",
      "[241]\ttrain-rmse:0.97412+0.01303\ttest-rmse:1.02800+0.06162\n"
     ]
    }
   ],
   "source": [
    "params_xgb = dict(\n",
    "    max_depth=2,\n",
    "    eta=0.01,\n",
    "    nthread=1,\n",
    "    min_child_weight=10,\n",
    "    objective=\"reg:squarederror\"\n",
    "    )\n",
    "\n",
    "params_cv = dict(\n",
    "    dtrain=X_train_dm,\n",
    "    num_boost_round=1000,\n",
    "    nfold=5,\n",
    "    early_stopping_rounds=50,\n",
    "    verbose_eval=10,\n",
    "    seed=1\n",
    ")\n",
    "\n",
    "cv = xgb.cv(params=params_xgb, **params_cv)"
   ]
  },
  {
   "cell_type": "code",
   "execution_count": 20,
   "metadata": {},
   "outputs": [],
   "source": [
    "model = xgb.train(\n",
    "    params=params_xgb,\n",
    "    dtrain=X_train_dm,\n",
    "    num_boost_round=cv.shape[0]\n",
    ")"
   ]
  },
  {
   "cell_type": "code",
   "execution_count": 21,
   "metadata": {},
   "outputs": [],
   "source": [
    "y_train_hat = model.predict(X_train_dm)\n",
    "y_test_hat = model.predict(X_test_dm)"
   ]
  },
  {
   "cell_type": "markdown",
   "metadata": {},
   "source": [
    "Resulting Spearman corr on train set:"
   ]
  },
  {
   "cell_type": "code",
   "execution_count": 22,
   "metadata": {},
   "outputs": [
    {
     "data": {
      "text/html": [
       "<div>\n",
       "<style scoped>\n",
       "    .dataframe tbody tr th:only-of-type {\n",
       "        vertical-align: middle;\n",
       "    }\n",
       "\n",
       "    .dataframe tbody tr th {\n",
       "        vertical-align: top;\n",
       "    }\n",
       "\n",
       "    .dataframe thead th {\n",
       "        text-align: right;\n",
       "    }\n",
       "</style>\n",
       "<table border=\"1\" class=\"dataframe\">\n",
       "  <thead>\n",
       "    <tr style=\"text-align: right;\">\n",
       "      <th></th>\n",
       "      <th>y_train</th>\n",
       "      <th>y_train_hat</th>\n",
       "    </tr>\n",
       "  </thead>\n",
       "  <tbody>\n",
       "    <tr>\n",
       "      <th>y_train</th>\n",
       "      <td>1.000000</td>\n",
       "      <td>0.315379</td>\n",
       "    </tr>\n",
       "    <tr>\n",
       "      <th>y_train_hat</th>\n",
       "      <td>0.315379</td>\n",
       "      <td>1.000000</td>\n",
       "    </tr>\n",
       "  </tbody>\n",
       "</table>\n",
       "</div>"
      ],
      "text/plain": [
       "              y_train  y_train_hat\n",
       "y_train      1.000000     0.315379\n",
       "y_train_hat  0.315379     1.000000"
      ]
     },
     "execution_count": 22,
     "metadata": {},
     "output_type": "execute_result"
    }
   ],
   "source": [
    "pd.DataFrame({\"y_train\": y_train, \"y_train_hat\": y_train_hat}).corr(\"spearman\")"
   ]
  },
  {
   "cell_type": "markdown",
   "metadata": {},
   "source": [
    "## Train booster with Spearman proxy as obj and exact Spearman corr as eval:"
   ]
  },
  {
   "cell_type": "code",
   "execution_count": 23,
   "metadata": {},
   "outputs": [
    {
     "name": "stdout",
     "output_type": "stream",
     "text": [
      "pred std train set 0.017163062\n",
      "pred std test set 0.01692632\n"
     ]
    }
   ],
   "source": [
    "params_xgb = dict(\n",
    "    max_depth=1,\n",
    "    eta=0.1,\n",
    "    nthread=1,\n",
    "    min_child_weight=10,\n",
    "    objective=\"reg:squarederror\"\n",
    "    )\n",
    "\n",
    "# avoid cold start\n",
    "cs_model = xgb.train(params=params_xgb, dtrain=X_train_dm, num_boost_round=1)\n",
    "cs_y_train = cs_model.predict(X_train_dm)\n",
    "cs_y_test = cs_model.predict(X_test_dm)\n",
    "print(\"pred std train set\", cs_y_train.std())\n",
    "print(\"pred std test set\", cs_y_test.std())"
   ]
  },
  {
   "cell_type": "code",
   "execution_count": 24,
   "metadata": {},
   "outputs": [],
   "source": [
    "X_train_dm = xgb.DMatrix(data=X_train, label=y_train, base_margin=cs_y_train)\n",
    "X_test_dm = xgb.DMatrix(data=X_test, label=None, base_margin=cs_y_test)"
   ]
  },
  {
   "cell_type": "code",
   "execution_count": 25,
   "metadata": {},
   "outputs": [
    {
     "name": "stdout",
     "output_type": "stream",
     "text": [
      "[0]\ttrain-Spear_corr:0.18258+0.00852\ttest-Spear_corr:0.18618+0.03818\n",
      "[10]\ttrain-Spear_corr:0.18258+0.00852\ttest-Spear_corr:0.18618+0.03818\n",
      "[20]\ttrain-Spear_corr:0.18258+0.00852\ttest-Spear_corr:0.18618+0.03818\n",
      "[30]\ttrain-Spear_corr:-0.11454+0.14244\ttest-Spear_corr:-0.08899+0.16793\n",
      "[40]\ttrain-Spear_corr:-0.11454+0.14244\ttest-Spear_corr:-0.08899+0.16793\n",
      "[50]\ttrain-Spear_corr:-0.11454+0.14244\ttest-Spear_corr:-0.08899+0.16793\n",
      "[60]\ttrain-Spear_corr:-0.11454+0.14244\ttest-Spear_corr:-0.08899+0.16793\n",
      "[70]\ttrain-Spear_corr:-0.11454+0.14244\ttest-Spear_corr:-0.08899+0.16793\n",
      "[80]\ttrain-Spear_corr:-0.11454+0.14244\ttest-Spear_corr:-0.08899+0.16793\n",
      "[90]\ttrain-Spear_corr:-0.11454+0.14244\ttest-Spear_corr:-0.08899+0.16793\n",
      "[99]\ttrain-Spear_corr:0.11454+0.14244\ttest-Spear_corr:0.08899+0.16793\n"
     ]
    }
   ],
   "source": [
    "params_xgb = dict(\n",
    "    max_depth=2,\n",
    "    eta=0.9,\n",
    "    nthread=1,\n",
    "    min_child_weight=10,\n",
    "    disable_default_eval_metric=True\n",
    "    )\n",
    "\n",
    "params_cv = dict(\n",
    "    dtrain=X_train_dm,\n",
    "    num_boost_round=1000,\n",
    "    nfold=5,\n",
    "    early_stopping_rounds=100,\n",
    "    verbose_eval=10,\n",
    "    seed=1\n",
    "    )\n",
    "\n",
    "cv = xgb.cv(params=params_xgb, obj=spearman_proxy_obj, custom_metric=spearman_eval, maximize=True, **params_cv)"
   ]
  },
  {
   "cell_type": "code",
   "execution_count": 26,
   "metadata": {},
   "outputs": [
    {
     "data": {
      "text/html": [
       "<div>\n",
       "<style scoped>\n",
       "    .dataframe tbody tr th:only-of-type {\n",
       "        vertical-align: middle;\n",
       "    }\n",
       "\n",
       "    .dataframe tbody tr th {\n",
       "        vertical-align: top;\n",
       "    }\n",
       "\n",
       "    .dataframe thead th {\n",
       "        text-align: right;\n",
       "    }\n",
       "</style>\n",
       "<table border=\"1\" class=\"dataframe\">\n",
       "  <thead>\n",
       "    <tr style=\"text-align: right;\">\n",
       "      <th></th>\n",
       "      <th>train-Spear_corr-mean</th>\n",
       "      <th>train-Spear_corr-std</th>\n",
       "      <th>test-Spear_corr-mean</th>\n",
       "      <th>test-Spear_corr-std</th>\n",
       "    </tr>\n",
       "  </thead>\n",
       "  <tbody>\n",
       "    <tr>\n",
       "      <th>0</th>\n",
       "      <td>0.182584</td>\n",
       "      <td>0.008524</td>\n",
       "      <td>0.186178</td>\n",
       "      <td>0.038183</td>\n",
       "    </tr>\n",
       "  </tbody>\n",
       "</table>\n",
       "</div>"
      ],
      "text/plain": [
       "   train-Spear_corr-mean  train-Spear_corr-std  test-Spear_corr-mean  \\\n",
       "0               0.182584              0.008524              0.186178   \n",
       "\n",
       "   test-Spear_corr-std  \n",
       "0             0.038183  "
      ]
     },
     "execution_count": 26,
     "metadata": {},
     "output_type": "execute_result"
    }
   ],
   "source": [
    "cv"
   ]
  },
  {
   "cell_type": "code",
   "execution_count": 27,
   "metadata": {},
   "outputs": [
    {
     "data": {
      "text/plain": [
       "<Axes: >"
      ]
     },
     "execution_count": 27,
     "metadata": {},
     "output_type": "execute_result"
    },
    {
     "data": {
      "image/png": "[encoded data removed]",
      "text/plain": [
       "<Figure size 640x480 with 1 Axes>"
      ]
     },
     "metadata": {},
     "output_type": "display_data"
    }
   ],
   "source": [
    "cv.iloc[:, -2].plot()"
   ]
  },
  {
   "cell_type": "markdown",
   "metadata": {},
   "source": [
    "## Train booster with RMSRD as obj and eval:"
   ]
  },
  {
   "cell_type": "code",
   "execution_count": 28,
   "metadata": {},
   "outputs": [
    {
     "name": "stdout",
     "output_type": "stream",
     "text": [
      "[0]\ttrain-RMSRD:464.11286+5.24529\ttest-RMSRD:113.95872+3.77102\n",
      "[10]\ttrain-RMSRD:448.90484+6.29871\ttest-RMSRD:110.72165+3.60732\n",
      "[20]\ttrain-RMSRD:448.49780+7.25757\ttest-RMSRD:111.52253+3.42674\n",
      "[30]\ttrain-RMSRD:449.71204+6.74144\ttest-RMSRD:111.45622+3.43290\n",
      "[40]\ttrain-RMSRD:450.46785+7.78575\ttest-RMSRD:111.40977+3.04551\n",
      "[50]\ttrain-RMSRD:450.99827+7.95089\ttest-RMSRD:111.77040+2.98837\n",
      "[60]\ttrain-RMSRD:450.97777+7.77330\ttest-RMSRD:111.72489+3.07796\n",
      "[70]\ttrain-RMSRD:450.92449+7.68932\ttest-RMSRD:111.86679+3.12742\n",
      "[80]\ttrain-RMSRD:450.92904+7.61013\ttest-RMSRD:111.90488+3.14960\n",
      "[90]\ttrain-RMSRD:451.06149+7.86541\ttest-RMSRD:111.99201+3.06353\n",
      "[100]\ttrain-RMSRD:451.33593+7.78796\ttest-RMSRD:112.08781+3.10494\n",
      "[109]\ttrain-RMSRD:451.48800+7.94186\ttest-RMSRD:112.14379+3.08497\n"
     ]
    }
   ],
   "source": [
    "params_xgb = dict(\n",
    "    max_depth=2,\n",
    "    eta=0.89,\n",
    "    nthread=1,\n",
    "    min_child_weight=10,\n",
    "    disable_default_eval_metric=True,\n",
    "    colsample_bytree=0.4\n",
    "    )\n",
    "\n",
    "params_cv = dict(\n",
    "    dtrain=X_train_dm,\n",
    "    num_boost_round=10000,\n",
    "    nfold=5,\n",
    "    early_stopping_rounds=100,\n",
    "    verbose_eval=10,\n",
    "    seed=1\n",
    "    )\n",
    "\n",
    "cv = xgb.cv(params=params_xgb, obj=soft_rank_obj, custom_metric=soft_rank_eval, maximize=False, **params_cv)"
   ]
  },
  {
   "cell_type": "code",
   "execution_count": 29,
   "metadata": {},
   "outputs": [
    {
     "data": {
      "text/html": [
       "<div>\n",
       "<style scoped>\n",
       "    .dataframe tbody tr th:only-of-type {\n",
       "        vertical-align: middle;\n",
       "    }\n",
       "\n",
       "    .dataframe tbody tr th {\n",
       "        vertical-align: top;\n",
       "    }\n",
       "\n",
       "    .dataframe thead th {\n",
       "        text-align: right;\n",
       "    }\n",
       "</style>\n",
       "<table border=\"1\" class=\"dataframe\">\n",
       "  <thead>\n",
       "    <tr style=\"text-align: right;\">\n",
       "      <th></th>\n",
       "      <th>train-RMSRD-mean</th>\n",
       "      <th>train-RMSRD-std</th>\n",
       "      <th>test-RMSRD-mean</th>\n",
       "      <th>test-RMSRD-std</th>\n",
       "    </tr>\n",
       "  </thead>\n",
       "  <tbody>\n",
       "    <tr>\n",
       "      <th>0</th>\n",
       "      <td>464.112857</td>\n",
       "      <td>5.245286</td>\n",
       "      <td>113.958722</td>\n",
       "      <td>3.771023</td>\n",
       "    </tr>\n",
       "    <tr>\n",
       "      <th>1</th>\n",
       "      <td>457.967211</td>\n",
       "      <td>5.896463</td>\n",
       "      <td>114.404435</td>\n",
       "      <td>4.716227</td>\n",
       "    </tr>\n",
       "    <tr>\n",
       "      <th>2</th>\n",
       "      <td>454.603217</td>\n",
       "      <td>5.385760</td>\n",
       "      <td>112.597849</td>\n",
       "      <td>2.951941</td>\n",
       "    </tr>\n",
       "    <tr>\n",
       "      <th>3</th>\n",
       "      <td>452.557425</td>\n",
       "      <td>3.949165</td>\n",
       "      <td>110.837035</td>\n",
       "      <td>2.857023</td>\n",
       "    </tr>\n",
       "    <tr>\n",
       "      <th>4</th>\n",
       "      <td>452.091174</td>\n",
       "      <td>4.825183</td>\n",
       "      <td>111.700581</td>\n",
       "      <td>3.487588</td>\n",
       "    </tr>\n",
       "    <tr>\n",
       "      <th>5</th>\n",
       "      <td>452.310742</td>\n",
       "      <td>5.828955</td>\n",
       "      <td>111.630373</td>\n",
       "      <td>3.165616</td>\n",
       "    </tr>\n",
       "    <tr>\n",
       "      <th>6</th>\n",
       "      <td>449.812800</td>\n",
       "      <td>5.782944</td>\n",
       "      <td>111.374323</td>\n",
       "      <td>3.358924</td>\n",
       "    </tr>\n",
       "    <tr>\n",
       "      <th>7</th>\n",
       "      <td>449.583654</td>\n",
       "      <td>5.977913</td>\n",
       "      <td>111.260879</td>\n",
       "      <td>3.423131</td>\n",
       "    </tr>\n",
       "    <tr>\n",
       "      <th>8</th>\n",
       "      <td>449.085841</td>\n",
       "      <td>6.363720</td>\n",
       "      <td>111.096003</td>\n",
       "      <td>3.905872</td>\n",
       "    </tr>\n",
       "    <tr>\n",
       "      <th>9</th>\n",
       "      <td>449.031041</td>\n",
       "      <td>6.499111</td>\n",
       "      <td>110.742294</td>\n",
       "      <td>3.699901</td>\n",
       "    </tr>\n",
       "    <tr>\n",
       "      <th>10</th>\n",
       "      <td>448.904838</td>\n",
       "      <td>6.298708</td>\n",
       "      <td>110.721645</td>\n",
       "      <td>3.607322</td>\n",
       "    </tr>\n",
       "  </tbody>\n",
       "</table>\n",
       "</div>"
      ],
      "text/plain": [
       "    train-RMSRD-mean  train-RMSRD-std  test-RMSRD-mean  test-RMSRD-std\n",
       "0         464.112857         5.245286       113.958722        3.771023\n",
       "1         457.967211         5.896463       114.404435        4.716227\n",
       "2         454.603217         5.385760       112.597849        2.951941\n",
       "3         452.557425         3.949165       110.837035        2.857023\n",
       "4         452.091174         4.825183       111.700581        3.487588\n",
       "5         452.310742         5.828955       111.630373        3.165616\n",
       "6         449.812800         5.782944       111.374323        3.358924\n",
       "7         449.583654         5.977913       111.260879        3.423131\n",
       "8         449.085841         6.363720       111.096003        3.905872\n",
       "9         449.031041         6.499111       110.742294        3.699901\n",
       "10        448.904838         6.298708       110.721645        3.607322"
      ]
     },
     "execution_count": 29,
     "metadata": {},
     "output_type": "execute_result"
    }
   ],
   "source": [
    "cv"
   ]
  },
  {
   "cell_type": "code",
   "execution_count": 30,
   "metadata": {},
   "outputs": [
    {
     "data": {
      "text/plain": [
       "<Axes: >"
      ]
     },
     "execution_count": 30,
     "metadata": {},
     "output_type": "execute_result"
    },
    {
     "data": {
      "image/png": "[encoded data removed]",
      "text/plain": [
       "<Figure size 640x480 with 1 Axes>"
      ]
     },
     "metadata": {},
     "output_type": "display_data"
    }
   ],
   "source": [
    "cv.iloc[:, -2].plot()"
   ]
  }
 ],
 "metadata": {
  "kernelspec": {
   "display_name": "spearman-proxy",
   "language": "python",
   "name": "python3"
  },
  "language_info": {
   "codemirror_mode": {
    "name": "ipython",
    "version": 3
   },
   "file_extension": ".py",
   "mimetype": "text/x-python",
   "name": "python",
   "nbconvert_exporter": "python",
   "pygments_lexer": "ipython3",
   "version": "3.11.4"
  },
  "orig_nbformat": 4
 },
 "nbformat": 4,
 "nbformat_minor": 2
}

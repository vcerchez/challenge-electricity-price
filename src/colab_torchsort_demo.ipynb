{
  "nbformat": 4,
  "nbformat_minor": 0,
  "metadata": {
    "colab": {
      "provenance": []
    },
    "kernelspec": {
      "name": "python3",
      "display_name": "Python 3"
    },
    "language_info": {
      "name": "python"
    }
  },
  "cells": [
    {
      "cell_type": "markdown",
      "source": [
        "[**torchsort**](https://github.com/teddykoker/torchsort) demo on colab"
      ],
      "metadata": {
        "id": "U2RcX5Q6Oia3"
      }
    },
    {
      "cell_type": "code",
      "source": [
        "%%bash\n",
        "# torchsort version, supports >= 0.1.9\n",
        "export TORCHSORT=0.1.9\n",
        "# PyTorch version, supports pt20 and pt113 for versions 2.0 and 1.13 respectively\n",
        "export TORCH=pt20\n",
        "# CUDA version, supports cpu, cu113, cu117, cu118 for CPU-only, CUDA 11.3, CUDA 11.7 and CUDA 11.8 respectively\n",
        "export CUDA=cu118\n",
        "# Python version, supports cp310 and cp311 for versions 3.10 and 3.11 respectively\n",
        "export PYTHON=cp310\n",
        "\n",
        "pip install https://github.com/teddykoker/torchsort/releases/download/v${TORCHSORT}/torchsort-${TORCHSORT}+${TORCH}${CUDA}-${PYTHON}-${PYTHON}-linux_x86_64.whl"
      ],
      "metadata": {
        "colab": {
          "base_uri": "https://localhost:8080/"
        },
        "id": "RLHKVI5SumNV",
        "outputId": "9f18a7d1-dfe1-4fc9-e2dc-c0ba30785f97"
      },
      "execution_count": 33,
      "outputs": [
        {
          "output_type": "stream",
          "name": "stdout",
          "text": [
            "Collecting torchsort==0.1.9+pt20cu118\n",
            "  Downloading https://github.com/teddykoker/torchsort/releases/download/v0.1.9/torchsort-0.1.9+pt20cu118-cp310-cp310-linux_x86_64.whl (3.5 MB)\n",
            "     ━━━━━━━━━━━━━━━━━━━━━━━━━━━━━━━━━━━━━━━━ 3.5/3.5 MB 35.4 MB/s eta 0:00:00\n",
            "Requirement already satisfied: torch in /usr/local/lib/python3.10/dist-packages (from torchsort==0.1.9+pt20cu118) (2.0.1+cu118)\n",
            "Requirement already satisfied: filelock in /usr/local/lib/python3.10/dist-packages (from torch->torchsort==0.1.9+pt20cu118) (3.12.2)\n",
            "Requirement already satisfied: typing-extensions in /usr/local/lib/python3.10/dist-packages (from torch->torchsort==0.1.9+pt20cu118) (4.5.0)\n",
            "Requirement already satisfied: sympy in /usr/local/lib/python3.10/dist-packages (from torch->torchsort==0.1.9+pt20cu118) (1.12)\n",
            "Requirement already satisfied: networkx in /usr/local/lib/python3.10/dist-packages (from torch->torchsort==0.1.9+pt20cu118) (3.1)\n",
            "Requirement already satisfied: jinja2 in /usr/local/lib/python3.10/dist-packages (from torch->torchsort==0.1.9+pt20cu118) (3.1.2)\n",
            "Requirement already satisfied: triton==2.0.0 in /usr/local/lib/python3.10/dist-packages (from torch->torchsort==0.1.9+pt20cu118) (2.0.0)\n",
            "Requirement already satisfied: cmake in /usr/local/lib/python3.10/dist-packages (from triton==2.0.0->torch->torchsort==0.1.9+pt20cu118) (3.27.4.1)\n",
            "Requirement already satisfied: lit in /usr/local/lib/python3.10/dist-packages (from triton==2.0.0->torch->torchsort==0.1.9+pt20cu118) (16.0.6)\n",
            "Requirement already satisfied: MarkupSafe>=2.0 in /usr/local/lib/python3.10/dist-packages (from jinja2->torch->torchsort==0.1.9+pt20cu118) (2.1.3)\n",
            "Requirement already satisfied: mpmath>=0.19 in /usr/local/lib/python3.10/dist-packages (from sympy->torch->torchsort==0.1.9+pt20cu118) (1.3.0)\n",
            "Installing collected packages: torchsort\n",
            "Successfully installed torchsort-0.1.9+pt20cu118\n"
          ]
        }
      ]
    },
    {
      "cell_type": "code",
      "execution_count": 1,
      "metadata": {
        "id": "RN6IJcfbuTWH"
      },
      "outputs": [],
      "source": [
        "import numpy as np\n",
        "import torch\n",
        "import torchsort"
      ]
    },
    {
      "cell_type": "code",
      "source": [
        "rs = 10.\n",
        "\n",
        "y = torch.tensor([[2., 1.]])\n",
        "y_hat = torch.tensor([[1.1, 2.]], requires_grad=True)\n",
        "\n",
        "def loss(y_hat):\n",
        "  r = torchsort.soft_rank(y, regularization_strength=rs)\n",
        "  r_hat = torchsort.soft_rank(y_hat, regularization_strength=rs)\n",
        "  return (r - r_hat).norm()\n",
        "\n",
        "grad = torch.autograd.functional.jacobian(loss, y_hat)\n",
        "hess = torch.autograd.functional.hessian(loss, y_hat)"
      ],
      "metadata": {
        "id": "vyRH69xsC9cX"
      },
      "execution_count": 39,
      "outputs": []
    },
    {
      "cell_type": "code",
      "source": [
        "grad"
      ],
      "metadata": {
        "colab": {
          "base_uri": "https://localhost:8080/"
        },
        "id": "V-NUPBBLFIXS",
        "outputId": "3da9d2a3-9e63-473d-caf2-d5fc2befc026"
      },
      "execution_count": 40,
      "outputs": [
        {
          "output_type": "execute_result",
          "data": {
            "text/plain": [
              "tensor([[-0.0707,  0.0707]])"
            ]
          },
          "metadata": {},
          "execution_count": 40
        }
      ]
    },
    {
      "cell_type": "code",
      "source": [
        "hess"
      ],
      "metadata": {
        "colab": {
          "base_uri": "https://localhost:8080/"
        },
        "id": "NYW5imitFrjX",
        "outputId": "fe9c18a7-f9f8-45e7-89d4-79bf232bbe40"
      },
      "execution_count": 41,
      "outputs": [
        {
          "output_type": "execute_result",
          "data": {
            "text/plain": [
              "tensor([[[[ 4.7684e-08, -4.7684e-08]],\n",
              "\n",
              "         [[ 4.4703e-08, -4.4703e-08]]]])"
            ]
          },
          "metadata": {},
          "execution_count": 41
        }
      ]
    }
  ]
}
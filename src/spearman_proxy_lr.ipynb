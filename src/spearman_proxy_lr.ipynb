{
 "cells": [
  {
   "cell_type": "code",
   "execution_count": 9,
   "metadata": {},
   "outputs": [],
   "source": [
    "import numpy as np\n",
    "import pandas as pd\n",
    "import torch\n",
    "from typing import Optional, Literal, Union\n",
    "import matplotlib.pyplot as plt\n",
    "\n",
    "# we use a local copy of the fast_soft_sort manually downloaded from\n",
    "# https://github.com/google-research/fast-soft-sort/tree/master\n",
    "from fast_soft_sort.pytorch_ops import soft_rank"
   ]
  },
  {
   "cell_type": "markdown",
   "metadata": {},
   "source": [
    "## Test ordinary lr in torch"
   ]
  },
  {
   "cell_type": "markdown",
   "metadata": {},
   "source": [
    "Data generating model and data:"
   ]
  },
  {
   "cell_type": "code",
   "execution_count": 2,
   "metadata": {},
   "outputs": [
    {
     "name": "stdout",
     "output_type": "stream",
     "text": [
      "weight Parameter containing:\n",
      "tensor([[1., 2., 3.]])\n",
      "bias Parameter containing:\n",
      "tensor([4.])\n"
     ]
    }
   ],
   "source": [
    "n_features = 3\n",
    "n_samples = 1000\n",
    "\n",
    "torch.manual_seed(0)\n",
    "\n",
    "model_true = torch.nn.Linear(n_features, 1)\n",
    "\n",
    "with torch.no_grad():\n",
    "    i = 1\n",
    "    for name, param in model_true.named_parameters():\n",
    "        param.copy_(torch.arange(i, i + param.numel()))\n",
    "        i += param.numel()\n",
    "        param.requires_grad = False\n",
    "\n",
    "for name, param in model_true.named_parameters():\n",
    "    print(name, param)\n",
    "\n",
    "X_train = torch.rand((n_samples, n_features))\n",
    "y_train = model_true(X_train)\n",
    "\n",
    "X_test = torch.rand((n_samples // 10, n_features))\n",
    "y_test = model_true(X_test)"
   ]
  },
  {
   "cell_type": "markdown",
   "metadata": {},
   "source": [
    "Model to train:"
   ]
  },
  {
   "cell_type": "code",
   "execution_count": null,
   "metadata": {},
   "outputs": [],
   "source": [
    "model = torch.nn.Linear(n_features, 1)\n",
    "\n",
    "optimizer = torch.optim.SGD(model.parameters(), lr=1e-2, weight_decay=0.0)\n",
    "\n",
    "def loss_fn(y, y_hat):\n",
    "    criterion = torch.nn.MSELoss()\n",
    "    return criterion(y, y_hat)\n",
    "    return torch.norm(y - y_hat) / np.sqrt(len(y))"
   ]
  },
  {
   "cell_type": "markdown",
   "metadata": {},
   "source": [
    "Help func:"
   ]
  },
  {
   "cell_type": "code",
   "execution_count": null,
   "metadata": {},
   "outputs": [],
   "source": [
    "def train_step(X, y, model, loss_fn, optimizer):\n",
    "    # Compute prediction and loss\n",
    "    y_hat = model(X)\n",
    "    loss = loss_fn(y, y_hat)\n",
    "\n",
    "    # Backpropagation\n",
    "    loss.backward()\n",
    "    optimizer.step()\n",
    "    optimizer.zero_grad() # did not forget!\n",
    "\n",
    "    return loss"
   ]
  },
  {
   "cell_type": "markdown",
   "metadata": {},
   "source": [
    "Train:"
   ]
  },
  {
   "cell_type": "code",
   "execution_count": null,
   "metadata": {},
   "outputs": [],
   "source": [
    "stats = {\"training loss\": [], \"test loss\": []}\n",
    "for epoch in range(10000):\n",
    "    train_loss = train_step(X_train, y_train, model, loss_fn, optimizer)\n",
    "    test_loss = loss_fn(y_test, model(X_test))\n",
    "    stats[\"training loss\"].append(train_loss.item())\n",
    "    stats[\"test loss\"].append(test_loss.item())"
   ]
  },
  {
   "cell_type": "code",
   "execution_count": null,
   "metadata": {},
   "outputs": [],
   "source": [
    "pd.DataFrame(stats).plot()"
   ]
  },
  {
   "cell_type": "code",
   "execution_count": null,
   "metadata": {},
   "outputs": [],
   "source": [
    "for name, param in model.named_parameters():\n",
    "    print(f\"{name}:\\t{param}\")"
   ]
  },
  {
   "cell_type": "markdown",
   "metadata": {},
   "source": [
    "## Soft rank"
   ]
  },
  {
   "cell_type": "code",
   "execution_count": 3,
   "metadata": {},
   "outputs": [],
   "source": [
    "model = torch.nn.Linear(n_features, 1)\n",
    "\n",
    "optimizer = torch.optim.SGD(model.parameters(), lr=1e-2, weight_decay=0.0)\n",
    "\n",
    "regularization_strength = 1.0\n",
    "\n",
    "def loss_fn(y, y_hat):\n",
    "    # rank true values\n",
    "    r = torch.empty_like(y)\n",
    "    r[y.argsort(dim=0), 0] = torch.arange(1, y.numel() + 1, dtype=y.dtype).reshape(-1, 1)\n",
    "       \n",
    "    # soft rank predictions\n",
    "    r_hat = soft_rank(y_hat.reshape(1, -1), regularization_strength=0.001).reshape(-1, 1)\n",
    "    \n",
    "    # normalize ranks\n",
    "    r = (r - 1) / (r.numel() - 1)\n",
    "    r_hat = (r_hat - 1) / (r_hat.numel() - 1)\n",
    "    \n",
    "    # squared rank difference (similar to the approach in \"Fast Differentiable Sorting and Ranking\" \n",
    "    # article)\n",
    "    criterion = torch.nn.MSELoss()\n",
    "    loss = criterion(r, r_hat)\n",
    "\n",
    "    return loss\n",
    "\n",
    "def eval_fn(y, y_hat):\n",
    "    # rank true values\n",
    "    r = torch.empty_like(y)\n",
    "    r[y.argsort(dim=0), 0] = torch.arange(1, y.numel() + 1, dtype=y.dtype).reshape(-1, 1)\n",
    "       \n",
    "    # soft rank predictions\n",
    "    r_hat = torch.empty_like(y_hat)\n",
    "    r_hat[y_hat.argsort(dim=0), 0] = torch.arange(1, y_hat.numel() + 1, dtype=y_hat.dtype).reshape(-1, 1)\n",
    "    \n",
    "    # normalize ranks\n",
    "    r = (r - 1) / (r.numel() - 1)\n",
    "    r_hat = (r_hat - 1) / (r_hat.numel() - 1)\n",
    "    \n",
    "    # squared rank difference (similar to the approach in \"Fast Differentiable Sorting and Ranking\" \n",
    "    # article)\n",
    "    criterion = torch.nn.MSELoss()\n",
    "    loss = criterion(r, r_hat)\n",
    "\n",
    "    return loss"
   ]
  },
  {
   "cell_type": "code",
   "execution_count": 4,
   "metadata": {},
   "outputs": [],
   "source": [
    "def train_step(X, y, model, loss_fn, optimizer):   \n",
    "    # Compute prediction and loss\n",
    "    y_hat = model(X)\n",
    "    loss = loss_fn(y, y_hat)\n",
    "\n",
    "    # Backpropagation\n",
    "    loss.backward()\n",
    "    optimizer.step()\n",
    "    optimizer.zero_grad() # did not forget!\n",
    "\n",
    "    return loss"
   ]
  },
  {
   "cell_type": "code",
   "execution_count": 5,
   "metadata": {},
   "outputs": [],
   "source": [
    "stats = {\"training loss\": [], \"test loss\": [], \"training eval\": [], \"test eval\": []}\n",
    "for epoch in range(2000):\n",
    "    train_loss = train_step(X_train, y_train, model, loss_fn, optimizer)\n",
    "    test_loss = loss_fn(y_test, model(X_test))\n",
    "    \n",
    "    # evaluation (exact ranks)\n",
    "    train_eval = eval_fn(y_train, model(X_train))\n",
    "    test_eval = eval_fn(y_test, model(X_test))\n",
    "    \n",
    "    stats[\"training loss\"].append(train_loss.item())\n",
    "    stats[\"test loss\"].append(test_loss.item())\n",
    "    stats[\"training eval\"].append(train_eval.item())\n",
    "    stats[\"test eval\"].append(test_eval.item())"
   ]
  },
  {
   "cell_type": "code",
   "execution_count": 14,
   "metadata": {},
   "outputs": [
    {
     "data": {
      "text/plain": [
       "<Axes: >"
      ]
     },
     "execution_count": 14,
     "metadata": {},
     "output_type": "execute_result"
    },
    {
     "data": {
      "image/png": "[encoded data removed]",
      "text/plain": [
       "<Figure size 1500x500 with 2 Axes>"
      ]
     },
     "metadata": {},
     "output_type": "display_data"
    }
   ],
   "source": [
    "fig, axs = plt.subplots(nrows=1, ncols=2, figsize=(15, 5))\n",
    "pd.DataFrame(stats).iloc[:, :2].plot(ax=axs[0])\n",
    "pd.DataFrame(stats).iloc[:, 2:].plot(ax=axs[1])"
   ]
  },
  {
   "cell_type": "code",
   "execution_count": 8,
   "metadata": {},
   "outputs": [
    {
     "data": {
      "text/html": [
       "<div>\n",
       "<style scoped>\n",
       "    .dataframe tbody tr th:only-of-type {\n",
       "        vertical-align: middle;\n",
       "    }\n",
       "\n",
       "    .dataframe tbody tr th {\n",
       "        vertical-align: top;\n",
       "    }\n",
       "\n",
       "    .dataframe thead th {\n",
       "        text-align: right;\n",
       "    }\n",
       "</style>\n",
       "<table border=\"1\" class=\"dataframe\">\n",
       "  <thead>\n",
       "    <tr style=\"text-align: right;\">\n",
       "      <th></th>\n",
       "      <th>training loss</th>\n",
       "      <th>test loss</th>\n",
       "      <th>training eval</th>\n",
       "      <th>test eval</th>\n",
       "    </tr>\n",
       "  </thead>\n",
       "  <tbody>\n",
       "    <tr>\n",
       "      <th>0</th>\n",
       "      <td>0.105793</td>\n",
       "      <td>0.154388</td>\n",
       "      <td>0.154610</td>\n",
       "      <td>0.154492</td>\n",
       "    </tr>\n",
       "    <tr>\n",
       "      <th>1</th>\n",
       "      <td>0.105454</td>\n",
       "      <td>0.153910</td>\n",
       "      <td>0.154132</td>\n",
       "      <td>0.153901</td>\n",
       "    </tr>\n",
       "    <tr>\n",
       "      <th>2</th>\n",
       "      <td>0.105115</td>\n",
       "      <td>0.153498</td>\n",
       "      <td>0.153665</td>\n",
       "      <td>0.153382</td>\n",
       "    </tr>\n",
       "    <tr>\n",
       "      <th>3</th>\n",
       "      <td>0.104778</td>\n",
       "      <td>0.153119</td>\n",
       "      <td>0.153238</td>\n",
       "      <td>0.153076</td>\n",
       "    </tr>\n",
       "    <tr>\n",
       "      <th>4</th>\n",
       "      <td>0.104442</td>\n",
       "      <td>0.152431</td>\n",
       "      <td>0.152795</td>\n",
       "      <td>0.152566</td>\n",
       "    </tr>\n",
       "    <tr>\n",
       "      <th>...</th>\n",
       "      <td>...</td>\n",
       "      <td>...</td>\n",
       "      <td>...</td>\n",
       "      <td>...</td>\n",
       "    </tr>\n",
       "    <tr>\n",
       "      <th>1995</th>\n",
       "      <td>0.001118</td>\n",
       "      <td>0.000023</td>\n",
       "      <td>0.000003</td>\n",
       "      <td>0.000022</td>\n",
       "    </tr>\n",
       "    <tr>\n",
       "      <th>1996</th>\n",
       "      <td>0.001117</td>\n",
       "      <td>0.000023</td>\n",
       "      <td>0.000003</td>\n",
       "      <td>0.000022</td>\n",
       "    </tr>\n",
       "    <tr>\n",
       "      <th>1997</th>\n",
       "      <td>0.001115</td>\n",
       "      <td>0.000023</td>\n",
       "      <td>0.000003</td>\n",
       "      <td>0.000022</td>\n",
       "    </tr>\n",
       "    <tr>\n",
       "      <th>1998</th>\n",
       "      <td>0.001114</td>\n",
       "      <td>0.000023</td>\n",
       "      <td>0.000003</td>\n",
       "      <td>0.000022</td>\n",
       "    </tr>\n",
       "    <tr>\n",
       "      <th>1999</th>\n",
       "      <td>0.001112</td>\n",
       "      <td>0.000023</td>\n",
       "      <td>0.000003</td>\n",
       "      <td>0.000022</td>\n",
       "    </tr>\n",
       "  </tbody>\n",
       "</table>\n",
       "<p>2000 rows × 4 columns</p>\n",
       "</div>"
      ],
      "text/plain": [
       "      training loss  test loss  training eval  test eval\n",
       "0          0.105793   0.154388       0.154610   0.154492\n",
       "1          0.105454   0.153910       0.154132   0.153901\n",
       "2          0.105115   0.153498       0.153665   0.153382\n",
       "3          0.104778   0.153119       0.153238   0.153076\n",
       "4          0.104442   0.152431       0.152795   0.152566\n",
       "...             ...        ...            ...        ...\n",
       "1995       0.001118   0.000023       0.000003   0.000022\n",
       "1996       0.001117   0.000023       0.000003   0.000022\n",
       "1997       0.001115   0.000023       0.000003   0.000022\n",
       "1998       0.001114   0.000023       0.000003   0.000022\n",
       "1999       0.001112   0.000023       0.000003   0.000022\n",
       "\n",
       "[2000 rows x 4 columns]"
      ]
     },
     "execution_count": 8,
     "metadata": {},
     "output_type": "execute_result"
    }
   ],
   "source": [
    "pd.DataFrame(stats)"
   ]
  },
  {
   "cell_type": "code",
   "execution_count": 7,
   "metadata": {},
   "outputs": [
    {
     "name": "stdout",
     "output_type": "stream",
     "text": [
      "weight:\tParameter containing:\n",
      "tensor([[0.2649, 0.5397, 0.8061]], requires_grad=True)\n",
      "bias:\tParameter containing:\n",
      "tensor([0.0546], requires_grad=True)\n"
     ]
    }
   ],
   "source": [
    "for name, param in model.named_parameters():\n",
    "    print(f\"{name}:\\t{param}\")"
   ]
  },
  {
   "cell_type": "code",
   "execution_count": 15,
   "metadata": {},
   "outputs": [],
   "source": [
    "def rank(y):\n",
    "    # rank true values\n",
    "    r = torch.empty_like(y)\n",
    "    r[y.argsort(dim=0), 0] = torch.arange(1, y.numel() + 1, dtype=y.dtype).reshape(-1, 1)\n",
    "    return r"
   ]
  },
  {
   "cell_type": "code",
   "execution_count": 22,
   "metadata": {},
   "outputs": [
    {
     "data": {
      "image/png": "[encoded data removed]",
      "text/plain": [
       "<Figure size 640x480 with 1 Axes>"
      ]
     },
     "metadata": {},
     "output_type": "display_data"
    }
   ],
   "source": [
    "r = rank(y_train)\n",
    "r_hat = rank(model(X_train))\n",
    "\n",
    "fig, axs = plt.subplots()\n",
    "axs.scatter(r, r_hat)\n",
    "axs.set_xlabel(\"r\")\n",
    "axs.set_ylabel(\"r_hat\")\n",
    "plt.show()"
   ]
  }
 ],
 "metadata": {
  "kernelspec": {
   "display_name": "spearman-proxy",
   "language": "python",
   "name": "python3"
  },
  "language_info": {
   "codemirror_mode": {
    "name": "ipython",
    "version": 3
   },
   "file_extension": ".py",
   "mimetype": "text/x-python",
   "name": "python",
   "nbconvert_exporter": "python",
   "pygments_lexer": "ipython3",
   "version": "3.11.4"
  },
  "orig_nbformat": 4
 },
 "nbformat": 4,
 "nbformat_minor": 2
}

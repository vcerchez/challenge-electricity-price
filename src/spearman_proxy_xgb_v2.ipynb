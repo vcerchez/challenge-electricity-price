{
 "cells": [
  {
   "cell_type": "code",
   "execution_count": 1,
   "metadata": {},
   "outputs": [],
   "source": [
    "%load_ext autoreload\n",
    "%autoreload 2\n",
    "\n",
    "import numpy as np\n",
    "import pandas as pd\n",
    "import torch\n",
    "import xgboost as xgb\n",
    "from typing import Optional, Literal, Union\n",
    "\n",
    "from help_spearman_proxy import *"
   ]
  },
  {
   "cell_type": "markdown",
   "metadata": {},
   "source": [
    "## Differentiable proxy to Spearman corr"
   ]
  },
  {
   "cell_type": "markdown",
   "metadata": {},
   "source": [
    "Based on the [\"Fast Differentiable Sorting and Ranking\"](https://arxiv.org/abs/2002.08871) article and [their implementation](https://github.com/google-research/fast-soft-sort/). Further inspiration for the implimentation of the Spearman corr taken from [here](https://forum.numer.ai/t/differentiable-spearman-in-pytorch-optimize-for-corr-directly/2287) and for the XGBoost custom objective function from [here](https://forum.numer.ai/t/custom-loss-functions-for-xgboost-using-pytorch/960).\n",
    "\n",
    "One of the limitations of the **fast-soft-sort** implementations is that the soft rank is only once differenciable (seemingly the artifact of the implementation of the core functions in numpy). There is [another implementation](https://github.com/teddykoker/torchsort) of the same functions fully written in Pytorch and cpp. However, it requires installation of a cpp compiler and was not tested here due to the absence of admin rights on Windows."
   ]
  },
  {
   "cell_type": "markdown",
   "metadata": {},
   "source": [
    "## Test Spearman proxy objective function"
   ]
  },
  {
   "cell_type": "code",
   "execution_count": 2,
   "metadata": {},
   "outputs": [
    {
     "name": "stdout",
     "output_type": "stream",
     "text": [
      "[[ 0.34558419  0.82161814  0.33043708 -1.30315723  0.90535587  0.44637457\n",
      "  -0.53695324  0.5811181   0.3645724   0.2941325 ]]\n",
      "[[ 0.02842224  0.54671299 -0.73645409 -0.16290995 -0.48211931  0.59884621\n",
      "   0.03972211 -0.29245675 -0.78190846 -0.25719224]]\n"
     ]
    },
    {
     "data": {
      "text/plain": [
       "(array([-0.04148875, -0.20659941, -0.04208716,  0.54291224, -0.24440162,\n",
       "        -0.0728451 ,  0.27221832, -0.12769731, -0.05457294, -0.02543828]),\n",
       " array([1., 1., 1., 1., 1., 1., 1., 1., 1., 1.]))"
      ]
     },
     "execution_count": 2,
     "metadata": {},
     "output_type": "execute_result"
    }
   ],
   "source": [
    "rng = np.random.default_rng(1)\n",
    "\n",
    "ytrue = rng.normal(size=(1, 10))\n",
    "ypred = rng.normal(size=(1, 10))\n",
    "\n",
    "print(ytrue)\n",
    "print(ypred)\n",
    "obj_spearman(ytrue, ypred)"
   ]
  },
  {
   "cell_type": "markdown",
   "metadata": {},
   "source": [
    "Custom evaluation (metric):"
   ]
  },
  {
   "cell_type": "code",
   "execution_count": 3,
   "metadata": {},
   "outputs": [],
   "source": [
    "def spearman_eval(ypred: Union[np.ndarray, xgb.DMatrix], ytrue: Union[np.ndarray, xgb.DMatrix]) -> tuple[str, float]:\n",
    "    \"\"\"(exact) Spearman correlation metric.\"\"\"\n",
    "    if isinstance(ytrue, xgb.core.DMatrix):\n",
    "        ytrue = ytrue.get_label()\n",
    "    if isinstance(ypred, xgb.core.DMatrix):\n",
    "        ypred = ypred.get_label()\n",
    "    \n",
    "    ytrue = ytrue.squeeze()\n",
    "    ypred = ypred.squeeze()\n",
    "    \n",
    "    spear_corr = 1 - pd.DataFrame({\"ytrue\": ytrue, \"ypred\": ypred}).corr(\"spearman\").iloc[0, 1]\n",
    "\n",
    "    return (\"Spear_corr\", spear_corr)"
   ]
  },
  {
   "cell_type": "markdown",
   "metadata": {},
   "source": [
    "Test Spearman corr evaluation function:"
   ]
  },
  {
   "cell_type": "code",
   "execution_count": 4,
   "metadata": {},
   "outputs": [
    {
     "data": {
      "text/plain": [
       "('Spear_corr', 1.0424242424242425)"
      ]
     },
     "execution_count": 4,
     "metadata": {},
     "output_type": "execute_result"
    }
   ],
   "source": [
    "rng = np.random.default_rng(1)\n",
    "\n",
    "ytrue = rng.normal(size=(1, 10))\n",
    "ypred = rng.normal(size=(1, 10))\n",
    "\n",
    "spearman_eval(ytrue, ypred)"
   ]
  },
  {
   "cell_type": "markdown",
   "metadata": {},
   "source": [
    "The following should evaluate to 0:"
   ]
  },
  {
   "cell_type": "code",
   "execution_count": 5,
   "metadata": {},
   "outputs": [
    {
     "data": {
      "text/plain": [
       "('Spear_corr', 0.0)"
      ]
     },
     "execution_count": 5,
     "metadata": {},
     "output_type": "execute_result"
    }
   ],
   "source": [
    "spearman_eval(ytrue, ytrue)"
   ]
  },
  {
   "cell_type": "markdown",
   "metadata": {},
   "source": [
    "The following should evaluate to 2 (since 1 - (-1) = 2):"
   ]
  },
  {
   "cell_type": "code",
   "execution_count": 6,
   "metadata": {},
   "outputs": [
    {
     "data": {
      "text/plain": [
       "('Spear_corr', 2.0)"
      ]
     },
     "execution_count": 6,
     "metadata": {},
     "output_type": "execute_result"
    }
   ],
   "source": [
    "spearman_eval(ytrue, -ytrue)"
   ]
  },
  {
   "cell_type": "markdown",
   "metadata": {},
   "source": [
    "## Load and prepare data"
   ]
  },
  {
   "cell_type": "code",
   "execution_count": 7,
   "metadata": {},
   "outputs": [],
   "source": [
    "X_train_raw = pd.read_csv(r\"../data/X_train.csv\")\n",
    "X_test_raw = pd.read_csv(r\"../data/X_test.csv\")\n",
    "y_train = pd.read_csv(r\"../data/y_train.csv\")"
   ]
  },
  {
   "cell_type": "markdown",
   "metadata": {},
   "source": [
    "Mask data for FR and DE:"
   ]
  },
  {
   "cell_type": "code",
   "execution_count": 8,
   "metadata": {},
   "outputs": [],
   "source": [
    "mask_train_FR = X_train_raw[\"COUNTRY\"] == \"FR\"\n",
    "mask_test_FR = X_test_raw[\"COUNTRY\"] == \"FR\""
   ]
  },
  {
   "cell_type": "markdown",
   "metadata": {},
   "source": [
    "Drop unsuded cols:"
   ]
  },
  {
   "cell_type": "code",
   "execution_count": 9,
   "metadata": {},
   "outputs": [],
   "source": [
    "columns_to_drop = [\"ID\", \"DAY_ID\", \"COUNTRY\", \"DE_FR_EXCHANGE\", \"FR_NET_IMPORT\", \"DE_NET_IMPORT\"]\n",
    "\n",
    "X_train = X_train_raw.drop(columns_to_drop, axis=1)\n",
    "X_test = X_test_raw.drop(columns_to_drop, axis=1)\n",
    "y_train = y_train[\"TARGET\"]"
   ]
  },
  {
   "cell_type": "markdown",
   "metadata": {},
   "source": [
    "Standartize vars:"
   ]
  },
  {
   "cell_type": "code",
   "execution_count": 10,
   "metadata": {},
   "outputs": [],
   "source": [
    "X_train = (X_train - X_train.mean()) / X_train.std()\n",
    "X_test = (X_test - X_test.mean()) / X_test.std()"
   ]
  },
  {
   "cell_type": "markdown",
   "metadata": {},
   "source": [
    "Fill-in NAs:"
   ]
  },
  {
   "cell_type": "code",
   "execution_count": 11,
   "metadata": {},
   "outputs": [],
   "source": [
    "X_train = X_train.fillna(0)\n",
    "X_test = X_test.fillna(0)"
   ]
  },
  {
   "cell_type": "markdown",
   "metadata": {},
   "source": [
    "Convert training data to DMatrix:"
   ]
  },
  {
   "cell_type": "code",
   "execution_count": 12,
   "metadata": {},
   "outputs": [],
   "source": [
    "X_train_dm = xgb.DMatrix(data=X_train, label=y_train)\n",
    "X_test_dm = xgb.DMatrix(data=X_test, label=None)"
   ]
  },
  {
   "cell_type": "markdown",
   "metadata": {},
   "source": [
    "## Train booster with ordinary MSE obj and RMSE eval:"
   ]
  },
  {
   "cell_type": "markdown",
   "metadata": {},
   "source": [
    "Cross validation:"
   ]
  },
  {
   "cell_type": "code",
   "execution_count": 13,
   "metadata": {},
   "outputs": [
    {
     "name": "stdout",
     "output_type": "stream",
     "text": [
      "[0]\ttrain-rmse:1.11042+0.01607\ttest-rmse:1.10916+0.06352\n",
      "[10]\ttrain-rmse:1.09203+0.01589\ttest-rmse:1.09396+0.06396\n",
      "[20]\ttrain-rmse:1.07641+0.01581\ttest-rmse:1.08108+0.06385\n",
      "[30]\ttrain-rmse:1.06291+0.01557\ttest-rmse:1.07010+0.06398\n",
      "[40]\ttrain-rmse:1.05138+0.01539\ttest-rmse:1.06085+0.06394\n",
      "[50]\ttrain-rmse:1.04149+0.01526\ttest-rmse:1.05331+0.06369\n",
      "[60]\ttrain-rmse:1.03295+0.01512\ttest-rmse:1.04725+0.06351\n",
      "[70]\ttrain-rmse:1.02574+0.01492\ttest-rmse:1.04254+0.06340\n",
      "[80]\ttrain-rmse:1.01954+0.01476\ttest-rmse:1.03874+0.06341\n",
      "[90]\ttrain-rmse:1.01411+0.01460\ttest-rmse:1.03573+0.06321\n",
      "[100]\ttrain-rmse:1.00934+0.01439\ttest-rmse:1.03343+0.06295\n",
      "[110]\ttrain-rmse:1.00514+0.01429\ttest-rmse:1.03167+0.06279\n",
      "[120]\ttrain-rmse:1.00124+0.01427\ttest-rmse:1.03021+0.06245\n",
      "[130]\ttrain-rmse:0.99773+0.01422\ttest-rmse:1.02917+0.06226\n",
      "[140]\ttrain-rmse:0.99463+0.01413\ttest-rmse:1.02820+0.06219\n",
      "[150]\ttrain-rmse:0.99181+0.01407\ttest-rmse:1.02768+0.06200\n",
      "[160]\ttrain-rmse:0.98921+0.01394\ttest-rmse:1.02736+0.06181\n",
      "[170]\ttrain-rmse:0.98678+0.01378\ttest-rmse:1.02702+0.06168\n",
      "[180]\ttrain-rmse:0.98459+0.01366\ttest-rmse:1.02695+0.06151\n",
      "[190]\ttrain-rmse:0.98266+0.01357\ttest-rmse:1.02693+0.06144\n",
      "[200]\ttrain-rmse:0.98083+0.01344\ttest-rmse:1.02703+0.06140\n",
      "[210]\ttrain-rmse:0.97911+0.01335\ttest-rmse:1.02721+0.06140\n",
      "[220]\ttrain-rmse:0.97743+0.01326\ttest-rmse:1.02738+0.06140\n",
      "[230]\ttrain-rmse:0.97584+0.01315\ttest-rmse:1.02769+0.06149\n",
      "[240]\ttrain-rmse:0.97429+0.01305\ttest-rmse:1.02796+0.06159\n",
      "[250]\ttrain-rmse:0.97273+0.01287\ttest-rmse:1.02822+0.06163\n",
      "[260]\ttrain-rmse:0.97128+0.01273\ttest-rmse:1.02851+0.06177\n",
      "[270]\ttrain-rmse:0.96976+0.01256\ttest-rmse:1.02879+0.06184\n",
      "[280]\ttrain-rmse:0.96842+0.01246\ttest-rmse:1.02905+0.06194\n",
      "[290]\ttrain-rmse:0.96692+0.01233\ttest-rmse:1.02934+0.06209\n",
      "[291]\ttrain-rmse:0.96677+0.01231\ttest-rmse:1.02931+0.06207\n"
     ]
    }
   ],
   "source": [
    "params_xgb = dict(\n",
    "    max_depth=2,\n",
    "    eta=0.01,\n",
    "    nthread=1,\n",
    "    min_child_weight=10,\n",
    "    objective=\"reg:squarederror\"\n",
    "    )\n",
    "\n",
    "params_cv = dict(\n",
    "    dtrain=X_train_dm,\n",
    "    num_boost_round=1000,\n",
    "    nfold=5,\n",
    "    early_stopping_rounds=100,\n",
    "    verbose_eval=10,\n",
    "    seed=1\n",
    ")\n",
    "\n",
    "cv = \\\n",
    "    xgb.cv(\n",
    "        params=params_xgb,\n",
    "        **params_cv\n",
    "        )"
   ]
  },
  {
   "cell_type": "code",
   "execution_count": 14,
   "metadata": {},
   "outputs": [
    {
     "data": {
      "text/html": [
       "<div>\n",
       "<style scoped>\n",
       "    .dataframe tbody tr th:only-of-type {\n",
       "        vertical-align: middle;\n",
       "    }\n",
       "\n",
       "    .dataframe tbody tr th {\n",
       "        vertical-align: top;\n",
       "    }\n",
       "\n",
       "    .dataframe thead th {\n",
       "        text-align: right;\n",
       "    }\n",
       "</style>\n",
       "<table border=\"1\" class=\"dataframe\">\n",
       "  <thead>\n",
       "    <tr style=\"text-align: right;\">\n",
       "      <th></th>\n",
       "      <th>train-rmse-mean</th>\n",
       "      <th>train-rmse-std</th>\n",
       "      <th>test-rmse-mean</th>\n",
       "      <th>test-rmse-std</th>\n",
       "    </tr>\n",
       "  </thead>\n",
       "  <tbody>\n",
       "    <tr>\n",
       "      <th>0</th>\n",
       "      <td>1.110419</td>\n",
       "      <td>0.016072</td>\n",
       "      <td>1.109162</td>\n",
       "      <td>0.063524</td>\n",
       "    </tr>\n",
       "    <tr>\n",
       "      <th>1</th>\n",
       "      <td>1.108443</td>\n",
       "      <td>0.016040</td>\n",
       "      <td>1.107527</td>\n",
       "      <td>0.063633</td>\n",
       "    </tr>\n",
       "    <tr>\n",
       "      <th>2</th>\n",
       "      <td>1.106485</td>\n",
       "      <td>0.016013</td>\n",
       "      <td>1.105949</td>\n",
       "      <td>0.063719</td>\n",
       "    </tr>\n",
       "    <tr>\n",
       "      <th>3</th>\n",
       "      <td>1.104578</td>\n",
       "      <td>0.015981</td>\n",
       "      <td>1.104366</td>\n",
       "      <td>0.063837</td>\n",
       "    </tr>\n",
       "    <tr>\n",
       "      <th>4</th>\n",
       "      <td>1.102680</td>\n",
       "      <td>0.015963</td>\n",
       "      <td>1.102796</td>\n",
       "      <td>0.063824</td>\n",
       "    </tr>\n",
       "    <tr>\n",
       "      <th>...</th>\n",
       "      <td>...</td>\n",
       "      <td>...</td>\n",
       "      <td>...</td>\n",
       "      <td>...</td>\n",
       "    </tr>\n",
       "    <tr>\n",
       "      <th>187</th>\n",
       "      <td>0.983230</td>\n",
       "      <td>0.013632</td>\n",
       "      <td>1.026932</td>\n",
       "      <td>0.061444</td>\n",
       "    </tr>\n",
       "    <tr>\n",
       "      <th>188</th>\n",
       "      <td>0.983048</td>\n",
       "      <td>0.013602</td>\n",
       "      <td>1.026927</td>\n",
       "      <td>0.061430</td>\n",
       "    </tr>\n",
       "    <tr>\n",
       "      <th>189</th>\n",
       "      <td>0.982837</td>\n",
       "      <td>0.013571</td>\n",
       "      <td>1.026999</td>\n",
       "      <td>0.061435</td>\n",
       "    </tr>\n",
       "    <tr>\n",
       "      <th>190</th>\n",
       "      <td>0.982663</td>\n",
       "      <td>0.013565</td>\n",
       "      <td>1.026929</td>\n",
       "      <td>0.061441</td>\n",
       "    </tr>\n",
       "    <tr>\n",
       "      <th>191</th>\n",
       "      <td>0.982474</td>\n",
       "      <td>0.013540</td>\n",
       "      <td>1.026913</td>\n",
       "      <td>0.061404</td>\n",
       "    </tr>\n",
       "  </tbody>\n",
       "</table>\n",
       "<p>192 rows × 4 columns</p>\n",
       "</div>"
      ],
      "text/plain": [
       "     train-rmse-mean  train-rmse-std  test-rmse-mean  test-rmse-std\n",
       "0           1.110419        0.016072        1.109162       0.063524\n",
       "1           1.108443        0.016040        1.107527       0.063633\n",
       "2           1.106485        0.016013        1.105949       0.063719\n",
       "3           1.104578        0.015981        1.104366       0.063837\n",
       "4           1.102680        0.015963        1.102796       0.063824\n",
       "..               ...             ...             ...            ...\n",
       "187         0.983230        0.013632        1.026932       0.061444\n",
       "188         0.983048        0.013602        1.026927       0.061430\n",
       "189         0.982837        0.013571        1.026999       0.061435\n",
       "190         0.982663        0.013565        1.026929       0.061441\n",
       "191         0.982474        0.013540        1.026913       0.061404\n",
       "\n",
       "[192 rows x 4 columns]"
      ]
     },
     "execution_count": 14,
     "metadata": {},
     "output_type": "execute_result"
    }
   ],
   "source": [
    "cv"
   ]
  },
  {
   "cell_type": "code",
   "execution_count": 15,
   "metadata": {},
   "outputs": [
    {
     "data": {
      "text/plain": [
       "<Axes: >"
      ]
     },
     "execution_count": 15,
     "metadata": {},
     "output_type": "execute_result"
    },
    {
     "data": {
      "image/png": "[encoded data removed]",
      "text/plain": [
       "<Figure size 640x480 with 1 Axes>"
      ]
     },
     "metadata": {},
     "output_type": "display_data"
    }
   ],
   "source": [
    "cv.iloc[:, [0, -2]].plot()"
   ]
  },
  {
   "cell_type": "markdown",
   "metadata": {},
   "source": [
    "CV evaluation of the model on Spearman corr metric:"
   ]
  },
  {
   "cell_type": "code",
   "execution_count": 16,
   "metadata": {},
   "outputs": [],
   "source": [
    "params_cv = dict(\n",
    "    dtrain=X_train_dm,\n",
    "    num_boost_round=cv.shape[0],\n",
    "    nfold=5,\n",
    "    early_stopping_rounds=None,\n",
    "    verbose_eval=0,\n",
    "    seed=1\n",
    ")\n",
    "\n",
    "cv = \\\n",
    "    xgb.cv(\n",
    "        params=params_xgb,\n",
    "        custom_metric=spearman_eval,\n",
    "        **params_cv\n",
    "        )"
   ]
  },
  {
   "cell_type": "code",
   "execution_count": 17,
   "metadata": {},
   "outputs": [
    {
     "data": {
      "text/plain": [
       "train-rmse-mean          0.982474\n",
       "train-rmse-std           0.013540\n",
       "test-rmse-mean           1.026913\n",
       "test-rmse-std            0.061404\n",
       "train-Spear_corr-mean    0.673736\n",
       "train-Spear_corr-std     0.010598\n",
       "test-Spear_corr-mean     0.834566\n",
       "test-Spear_corr-std      0.027367\n",
       "Name: 191, dtype: float64"
      ]
     },
     "execution_count": 17,
     "metadata": {},
     "output_type": "execute_result"
    }
   ],
   "source": [
    "cv.iloc[-1, :]"
   ]
  },
  {
   "cell_type": "code",
   "execution_count": 18,
   "metadata": {},
   "outputs": [
    {
     "name": "stdout",
     "output_type": "stream",
     "text": [
      "Spearman corr on val set = 16.54 +/- 2.74\n"
     ]
    }
   ],
   "source": [
    "print(f\"Spearman corr on val set = {100 * (1 - cv.iloc[-1, -2]):0.2f} +/- {100 * cv.iloc[-1, -1]:0.2f}\")"
   ]
  },
  {
   "cell_type": "code",
   "execution_count": 19,
   "metadata": {},
   "outputs": [
    {
     "data": {
      "image/png": "[encoded data removed]",
      "text/plain": [
       "<Figure size 640x480 with 1 Axes>"
      ]
     },
     "metadata": {},
     "output_type": "display_data"
    }
   ],
   "source": [
    "ax = (100 * (1 - cv.iloc[:, [-4, -2]])).plot()\n",
    "ax.grid(which='both', axis='both')"
   ]
  },
  {
   "cell_type": "code",
   "execution_count": 20,
   "metadata": {},
   "outputs": [],
   "source": [
    "model = xgb.train(\n",
    "    params=params_xgb,\n",
    "    dtrain=X_train_dm,\n",
    "    num_boost_round=cv.shape[0]\n",
    ")"
   ]
  },
  {
   "cell_type": "code",
   "execution_count": 21,
   "metadata": {},
   "outputs": [],
   "source": [
    "y_train_hat = model.predict(X_train_dm)\n",
    "y_test_hat = model.predict(X_test_dm)"
   ]
  },
  {
   "cell_type": "markdown",
   "metadata": {},
   "source": [
    "Resulting Spearman corr on train set:"
   ]
  },
  {
   "cell_type": "code",
   "execution_count": 22,
   "metadata": {},
   "outputs": [
    {
     "data": {
      "text/html": [
       "<div>\n",
       "<style scoped>\n",
       "    .dataframe tbody tr th:only-of-type {\n",
       "        vertical-align: middle;\n",
       "    }\n",
       "\n",
       "    .dataframe tbody tr th {\n",
       "        vertical-align: top;\n",
       "    }\n",
       "\n",
       "    .dataframe thead th {\n",
       "        text-align: right;\n",
       "    }\n",
       "</style>\n",
       "<table border=\"1\" class=\"dataframe\">\n",
       "  <thead>\n",
       "    <tr style=\"text-align: right;\">\n",
       "      <th></th>\n",
       "      <th>y_train</th>\n",
       "      <th>y_train_hat</th>\n",
       "    </tr>\n",
       "  </thead>\n",
       "  <tbody>\n",
       "    <tr>\n",
       "      <th>y_train</th>\n",
       "      <td>1.000000</td>\n",
       "      <td>0.315379</td>\n",
       "    </tr>\n",
       "    <tr>\n",
       "      <th>y_train_hat</th>\n",
       "      <td>0.315379</td>\n",
       "      <td>1.000000</td>\n",
       "    </tr>\n",
       "  </tbody>\n",
       "</table>\n",
       "</div>"
      ],
      "text/plain": [
       "              y_train  y_train_hat\n",
       "y_train      1.000000     0.315379\n",
       "y_train_hat  0.315379     1.000000"
      ]
     },
     "execution_count": 22,
     "metadata": {},
     "output_type": "execute_result"
    }
   ],
   "source": [
    "pd.DataFrame({\"y_train\": y_train, \"y_train_hat\": y_train_hat}).corr(\"spearman\")"
   ]
  },
  {
   "cell_type": "markdown",
   "metadata": {},
   "source": [
    "## Train booster with Spearman proxy as obj and exact Spearman corr as eval:"
   ]
  },
  {
   "cell_type": "markdown",
   "metadata": {},
   "source": [
    "Avoid cold start (xgboost starts by predicting mean, but Spearman corr for constant vectors is not defined):"
   ]
  },
  {
   "cell_type": "code",
   "execution_count": 28,
   "metadata": {},
   "outputs": [
    {
     "name": "stdout",
     "output_type": "stream",
     "text": [
      "pred std train set 0.15298736\n",
      "pred std test set 0.15305726\n"
     ]
    }
   ],
   "source": [
    "params_xgb = dict(\n",
    "    max_depth=1,\n",
    "    eta=0.9,\n",
    "    nthread=1,\n",
    "    min_child_weight=10,\n",
    "    objective=\"reg:squarederror\"\n",
    "    )\n",
    "\n",
    "cs_model = xgb.train(params=params_xgb, dtrain=X_train_dm, num_boost_round=1)\n",
    "cs_y_train = cs_model.predict(X_train_dm)\n",
    "cs_y_test = cs_model.predict(X_test_dm)\n",
    "print(\"pred std train set\", cs_y_train.std())\n",
    "print(\"pred std test set\", cs_y_test.std())"
   ]
  },
  {
   "cell_type": "code",
   "execution_count": 29,
   "metadata": {},
   "outputs": [],
   "source": [
    "X_train_dm = xgb.DMatrix(data=X_train, label=y_train, base_margin=cs_y_train)\n",
    "X_test_dm = xgb.DMatrix(data=X_test, label=None, base_margin=cs_y_test)"
   ]
  },
  {
   "cell_type": "code",
   "execution_count": 60,
   "metadata": {},
   "outputs": [
    {
     "name": "stdout",
     "output_type": "stream",
     "text": [
      "[0]\ttrain-Spear_corr:0.78853+0.00714\ttest-Spear_corr:0.78317+0.03153\n",
      "[10]\ttrain-Spear_corr:0.78853+0.00714\ttest-Spear_corr:0.78317+0.03153\n",
      "[20]\ttrain-Spear_corr:0.78853+0.00714\ttest-Spear_corr:0.78317+0.03153\n",
      "[30]\ttrain-Spear_corr:0.78853+0.00714\ttest-Spear_corr:0.78317+0.03153\n",
      "[40]\ttrain-Spear_corr:0.78853+0.00714\ttest-Spear_corr:0.78317+0.03153\n",
      "[50]\ttrain-Spear_corr:0.78853+0.00714\ttest-Spear_corr:0.78317+0.03153\n",
      "[60]\ttrain-Spear_corr:0.78853+0.00714\ttest-Spear_corr:0.78317+0.03153\n",
      "[70]\ttrain-Spear_corr:0.78853+0.00714\ttest-Spear_corr:0.78317+0.03153\n",
      "[80]\ttrain-Spear_corr:0.78853+0.00714\ttest-Spear_corr:0.78317+0.03153\n",
      "[90]\ttrain-Spear_corr:0.78853+0.00714\ttest-Spear_corr:0.78317+0.03153\n",
      "[100]\ttrain-Spear_corr:0.78853+0.00714\ttest-Spear_corr:0.78317+0.03153\n",
      "[110]\ttrain-Spear_corr:0.78853+0.00714\ttest-Spear_corr:0.78317+0.03153\n",
      "[120]\ttrain-Spear_corr:0.78853+0.00714\ttest-Spear_corr:0.78317+0.03153\n",
      "[130]\ttrain-Spear_corr:0.78853+0.00714\ttest-Spear_corr:0.78317+0.03153\n",
      "[140]\ttrain-Spear_corr:0.78853+0.00714\ttest-Spear_corr:0.78317+0.03153\n",
      "[150]\ttrain-Spear_corr:0.78853+0.00714\ttest-Spear_corr:0.78317+0.03153\n",
      "[160]\ttrain-Spear_corr:0.78853+0.00714\ttest-Spear_corr:0.78317+0.03153\n",
      "[170]\ttrain-Spear_corr:0.78853+0.00714\ttest-Spear_corr:0.78317+0.03153\n",
      "[180]\ttrain-Spear_corr:0.78853+0.00714\ttest-Spear_corr:0.78317+0.03153\n",
      "[190]\ttrain-Spear_corr:0.78853+0.00714\ttest-Spear_corr:0.78317+0.03153\n",
      "[200]\ttrain-Spear_corr:0.78853+0.00714\ttest-Spear_corr:0.78317+0.03153\n",
      "[210]\ttrain-Spear_corr:0.78853+0.00714\ttest-Spear_corr:0.78317+0.03153\n",
      "[220]\ttrain-Spear_corr:0.78853+0.00714\ttest-Spear_corr:0.78317+0.03153\n",
      "[230]\ttrain-Spear_corr:0.78853+0.00714\ttest-Spear_corr:0.78317+0.03153\n",
      "[240]\ttrain-Spear_corr:0.78853+0.00714\ttest-Spear_corr:0.78317+0.03153\n",
      "[250]\ttrain-Spear_corr:0.78853+0.00714\ttest-Spear_corr:0.78317+0.03153\n",
      "[260]\ttrain-Spear_corr:0.78853+0.00714\ttest-Spear_corr:0.78317+0.03153\n",
      "[270]\ttrain-Spear_corr:0.78853+0.00714\ttest-Spear_corr:0.78317+0.03153\n",
      "[280]\ttrain-Spear_corr:0.78853+0.00714\ttest-Spear_corr:0.78317+0.03153\n",
      "[290]\ttrain-Spear_corr:0.78853+0.00714\ttest-Spear_corr:0.78317+0.03153\n",
      "[300]\ttrain-Spear_corr:0.78853+0.00714\ttest-Spear_corr:0.78317+0.03153\n",
      "[310]\ttrain-Spear_corr:0.78853+0.00714\ttest-Spear_corr:0.78317+0.03153\n",
      "[320]\ttrain-Spear_corr:0.78853+0.00714\ttest-Spear_corr:0.78317+0.03153\n",
      "[330]\ttrain-Spear_corr:0.78853+0.00714\ttest-Spear_corr:0.78317+0.03153\n",
      "[340]\ttrain-Spear_corr:0.78853+0.00714\ttest-Spear_corr:0.78317+0.03153\n",
      "[350]\ttrain-Spear_corr:0.78853+0.00714\ttest-Spear_corr:0.78317+0.03153\n",
      "[360]\ttrain-Spear_corr:0.78853+0.00714\ttest-Spear_corr:0.78317+0.03153\n",
      "[370]\ttrain-Spear_corr:0.78853+0.00714\ttest-Spear_corr:0.78317+0.03153\n",
      "[380]\ttrain-Spear_corr:0.78853+0.00714\ttest-Spear_corr:0.78317+0.03153\n",
      "[390]\ttrain-Spear_corr:0.78853+0.00714\ttest-Spear_corr:0.78317+0.03153\n",
      "[400]\ttrain-Spear_corr:0.78853+0.00714\ttest-Spear_corr:0.78317+0.03153\n",
      "[410]\ttrain-Spear_corr:0.78853+0.00714\ttest-Spear_corr:0.78317+0.03153\n",
      "[420]\ttrain-Spear_corr:0.78853+0.00714\ttest-Spear_corr:0.78317+0.03153\n",
      "[430]\ttrain-Spear_corr:0.78853+0.00714\ttest-Spear_corr:0.78317+0.03153\n",
      "[440]\ttrain-Spear_corr:0.78853+0.00714\ttest-Spear_corr:0.78317+0.03153\n",
      "[450]\ttrain-Spear_corr:0.78853+0.00714\ttest-Spear_corr:0.78317+0.03153\n",
      "[460]\ttrain-Spear_corr:0.78853+0.00714\ttest-Spear_corr:0.78317+0.03153\n",
      "[470]\ttrain-Spear_corr:0.78853+0.00714\ttest-Spear_corr:0.78317+0.03153\n",
      "[480]\ttrain-Spear_corr:0.78853+0.00714\ttest-Spear_corr:0.78317+0.03153\n",
      "[490]\ttrain-Spear_corr:0.78853+0.00714\ttest-Spear_corr:0.78317+0.03153\n",
      "[500]\ttrain-Spear_corr:0.78853+0.00714\ttest-Spear_corr:0.78317+0.03153\n",
      "[510]\ttrain-Spear_corr:0.78853+0.00714\ttest-Spear_corr:0.78317+0.03153\n",
      "[520]\ttrain-Spear_corr:0.78853+0.00714\ttest-Spear_corr:0.78317+0.03153\n",
      "[530]\ttrain-Spear_corr:0.78853+0.00714\ttest-Spear_corr:0.78317+0.03153\n",
      "[540]\ttrain-Spear_corr:0.78853+0.00714\ttest-Spear_corr:0.78317+0.03153\n",
      "[550]\ttrain-Spear_corr:0.78853+0.00714\ttest-Spear_corr:0.78317+0.03153\n",
      "[560]\ttrain-Spear_corr:0.78853+0.00714\ttest-Spear_corr:0.78317+0.03153\n",
      "[570]\ttrain-Spear_corr:0.78853+0.00714\ttest-Spear_corr:0.78317+0.03153\n",
      "[580]\ttrain-Spear_corr:0.78853+0.00714\ttest-Spear_corr:0.78317+0.03153\n",
      "[590]\ttrain-Spear_corr:0.78853+0.00714\ttest-Spear_corr:0.78317+0.03153\n",
      "[600]\ttrain-Spear_corr:0.78853+0.00714\ttest-Spear_corr:0.78317+0.03153\n",
      "[610]\ttrain-Spear_corr:0.78853+0.00714\ttest-Spear_corr:0.78317+0.03153\n",
      "[620]\ttrain-Spear_corr:0.78853+0.00714\ttest-Spear_corr:0.78317+0.03153\n",
      "[630]\ttrain-Spear_corr:0.78853+0.00714\ttest-Spear_corr:0.78317+0.03153\n",
      "[640]\ttrain-Spear_corr:0.78853+0.00714\ttest-Spear_corr:0.78317+0.03153\n",
      "[650]\ttrain-Spear_corr:0.78853+0.00714\ttest-Spear_corr:0.78317+0.03153\n",
      "[660]\ttrain-Spear_corr:0.78853+0.00714\ttest-Spear_corr:0.78317+0.03153\n",
      "[670]\ttrain-Spear_corr:0.78853+0.00714\ttest-Spear_corr:0.78317+0.03153\n",
      "[680]\ttrain-Spear_corr:0.78853+0.00714\ttest-Spear_corr:0.78317+0.03153\n",
      "[690]\ttrain-Spear_corr:0.78853+0.00714\ttest-Spear_corr:0.78317+0.03153\n",
      "[700]\ttrain-Spear_corr:0.78853+0.00714\ttest-Spear_corr:0.78317+0.03153\n",
      "[710]\ttrain-Spear_corr:0.78853+0.00714\ttest-Spear_corr:0.78317+0.03153\n",
      "[720]\ttrain-Spear_corr:0.78853+0.00714\ttest-Spear_corr:0.78317+0.03153\n",
      "[730]\ttrain-Spear_corr:0.78853+0.00714\ttest-Spear_corr:0.78317+0.03153\n",
      "[740]\ttrain-Spear_corr:0.78853+0.00714\ttest-Spear_corr:0.78317+0.03153\n",
      "[750]\ttrain-Spear_corr:0.78853+0.00714\ttest-Spear_corr:0.78317+0.03153\n",
      "[760]\ttrain-Spear_corr:0.78853+0.00714\ttest-Spear_corr:0.78317+0.03153\n",
      "[770]\ttrain-Spear_corr:0.78853+0.00714\ttest-Spear_corr:0.78317+0.03153\n",
      "[780]\ttrain-Spear_corr:0.78853+0.00714\ttest-Spear_corr:0.78317+0.03153\n",
      "[790]\ttrain-Spear_corr:0.78853+0.00714\ttest-Spear_corr:0.78317+0.03153\n",
      "[800]\ttrain-Spear_corr:0.78853+0.00714\ttest-Spear_corr:0.78317+0.03153\n",
      "[810]\ttrain-Spear_corr:0.78853+0.00714\ttest-Spear_corr:0.78317+0.03153\n",
      "[820]\ttrain-Spear_corr:0.78853+0.00714\ttest-Spear_corr:0.78317+0.03153\n",
      "[830]\ttrain-Spear_corr:0.78853+0.00714\ttest-Spear_corr:0.78317+0.03153\n",
      "[840]\ttrain-Spear_corr:0.78853+0.00714\ttest-Spear_corr:0.78317+0.03153\n",
      "[850]\ttrain-Spear_corr:0.78853+0.00714\ttest-Spear_corr:0.78317+0.03153\n",
      "[860]\ttrain-Spear_corr:0.78853+0.00714\ttest-Spear_corr:0.78317+0.03153\n",
      "[870]\ttrain-Spear_corr:0.78853+0.00714\ttest-Spear_corr:0.78317+0.03153\n",
      "[880]\ttrain-Spear_corr:0.78853+0.00714\ttest-Spear_corr:0.78317+0.03153\n",
      "[890]\ttrain-Spear_corr:0.78853+0.00714\ttest-Spear_corr:0.78317+0.03153\n",
      "[900]\ttrain-Spear_corr:0.78853+0.00714\ttest-Spear_corr:0.78317+0.03153\n",
      "[910]\ttrain-Spear_corr:0.78853+0.00714\ttest-Spear_corr:0.78317+0.03153\n",
      "[920]\ttrain-Spear_corr:0.78853+0.00714\ttest-Spear_corr:0.78317+0.03153\n",
      "[930]\ttrain-Spear_corr:0.78853+0.00714\ttest-Spear_corr:0.78317+0.03153\n",
      "[940]\ttrain-Spear_corr:0.78853+0.00714\ttest-Spear_corr:0.78317+0.03153\n",
      "[950]\ttrain-Spear_corr:0.78853+0.00714\ttest-Spear_corr:0.78317+0.03153\n",
      "[960]\ttrain-Spear_corr:0.78853+0.00714\ttest-Spear_corr:0.78317+0.03153\n",
      "[970]\ttrain-Spear_corr:0.78853+0.00714\ttest-Spear_corr:0.78317+0.03153\n",
      "[980]\ttrain-Spear_corr:0.78853+0.00714\ttest-Spear_corr:0.78317+0.03153\n",
      "[990]\ttrain-Spear_corr:0.78853+0.00714\ttest-Spear_corr:0.78317+0.03153\n",
      "[1000]\ttrain-Spear_corr:0.78853+0.00714\ttest-Spear_corr:0.78317+0.03153\n"
     ]
    }
   ],
   "source": [
    "params_xgb = dict(\n",
    "    max_depth=2,\n",
    "    eta=0.1,\n",
    "    nthread=1,\n",
    "    min_child_weight=10,\n",
    "    colsample_bytree=1.,\n",
    "    disable_default_eval_metric=True\n",
    "    )\n",
    "\n",
    "params_xgb[\"lambda\"] = 1.\n",
    "\n",
    "params_cv = dict(\n",
    "    dtrain=X_train_dm,\n",
    "    num_boost_round=3000,\n",
    "    nfold=5,\n",
    "    early_stopping_rounds=1000,\n",
    "    verbose_eval=10,\n",
    "    seed=1\n",
    "    )\n",
    "\n",
    "cv = \\\n",
    "    xgb.cv(\n",
    "        params=params_xgb,\n",
    "        obj=obj_spearman,\n",
    "        custom_metric=spearman_eval,\n",
    "        maximize=False,\n",
    "        **params_cv\n",
    "        )"
   ]
  },
  {
   "cell_type": "code",
   "execution_count": 57,
   "metadata": {},
   "outputs": [
    {
     "data": {
      "text/html": [
       "<div>\n",
       "<style scoped>\n",
       "    .dataframe tbody tr th:only-of-type {\n",
       "        vertical-align: middle;\n",
       "    }\n",
       "\n",
       "    .dataframe tbody tr th {\n",
       "        vertical-align: top;\n",
       "    }\n",
       "\n",
       "    .dataframe thead th {\n",
       "        text-align: right;\n",
       "    }\n",
       "</style>\n",
       "<table border=\"1\" class=\"dataframe\">\n",
       "  <thead>\n",
       "    <tr style=\"text-align: right;\">\n",
       "      <th></th>\n",
       "      <th>train-Spear_corr-mean</th>\n",
       "      <th>train-Spear_corr-std</th>\n",
       "      <th>test-Spear_corr-mean</th>\n",
       "      <th>test-Spear_corr-std</th>\n",
       "    </tr>\n",
       "  </thead>\n",
       "  <tbody>\n",
       "    <tr>\n",
       "      <th>0</th>\n",
       "      <td>0.788531</td>\n",
       "      <td>0.007136</td>\n",
       "      <td>0.78317</td>\n",
       "      <td>0.031527</td>\n",
       "    </tr>\n",
       "  </tbody>\n",
       "</table>\n",
       "</div>"
      ],
      "text/plain": [
       "   train-Spear_corr-mean  train-Spear_corr-std  test-Spear_corr-mean  \\\n",
       "0               0.788531              0.007136               0.78317   \n",
       "\n",
       "   test-Spear_corr-std  \n",
       "0             0.031527  "
      ]
     },
     "execution_count": 57,
     "metadata": {},
     "output_type": "execute_result"
    }
   ],
   "source": [
    "cv"
   ]
  },
  {
   "cell_type": "code",
   "execution_count": 52,
   "metadata": {},
   "outputs": [
    {
     "name": "stdout",
     "output_type": "stream",
     "text": [
      "Spearman corr on val set: 21.7 +/- 3.2\n"
     ]
    }
   ],
   "source": [
    "print(f\"Spearman corr on val set: {100 * (1 - cv.iloc[-1, 2]):.1f} +/- {100 * cv.iloc[-1, 3]:.1f}\")"
   ]
  },
  {
   "cell_type": "code",
   "execution_count": 42,
   "metadata": {},
   "outputs": [
    {
     "data": {
      "text/plain": [
       "<Axes: >"
      ]
     },
     "execution_count": 42,
     "metadata": {},
     "output_type": "execute_result"
    },
    {
     "data": {
      "image/png": "[encoded data removed]",
      "text/plain": [
       "<Figure size 640x480 with 1 Axes>"
      ]
     },
     "metadata": {},
     "output_type": "display_data"
    }
   ],
   "source": [
    "cv.iloc[:, [0, -2]].plot()"
   ]
  },
  {
   "cell_type": "code",
   "execution_count": 43,
   "metadata": {},
   "outputs": [],
   "source": [
    "params_xgb = dict(\n",
    "    max_depth=2,\n",
    "    eta=.1,\n",
    "    nthread=1,\n",
    "    min_child_weight=10,\n",
    "    disable_default_eval_metric=True\n",
    "    )\n",
    "\n",
    "params_cv = dict(\n",
    "    dtrain=X_train_dm,\n",
    "    num_boost_round=cv.shape[0],\n",
    "    nfold=5,\n",
    "    early_stopping_rounds=None,\n",
    "    verbose_eval=0,\n",
    "    seed=1\n",
    "    )\n",
    "\n",
    "cv = \\\n",
    "    xgb.cv(\n",
    "        params=params_xgb,\n",
    "        obj=obj_spearman,\n",
    "        custom_metric=spearman_eval,\n",
    "        maximize=False,\n",
    "        **params_cv\n",
    "        )"
   ]
  },
  {
   "cell_type": "code",
   "execution_count": 44,
   "metadata": {},
   "outputs": [
    {
     "data": {
      "text/plain": [
       "train-Spear_corr-mean    0.817416\n",
       "train-Spear_corr-std     0.008524\n",
       "test-Spear_corr-mean     0.813822\n",
       "test-Spear_corr-std      0.038183\n",
       "Name: 0, dtype: float64"
      ]
     },
     "execution_count": 44,
     "metadata": {},
     "output_type": "execute_result"
    }
   ],
   "source": [
    "cv.iloc[-1, :]"
   ]
  },
  {
   "cell_type": "code",
   "execution_count": 45,
   "metadata": {},
   "outputs": [],
   "source": [
    "model = xgb.train(\n",
    "    params=params_xgb,\n",
    "    dtrain=X_train_dm,\n",
    "    num_boost_round=cv.shape[0]\n",
    ")"
   ]
  },
  {
   "cell_type": "code",
   "execution_count": 29,
   "metadata": {},
   "outputs": [],
   "source": [
    "# import io\n",
    "# import json\n",
    "\n",
    "# with io.StringIO() as fout:\n",
    "#     model.dump_model(fout, fmap='', with_stats=True, dump_format='text')\n",
    "#     fout.seek(0)\n",
    "#     model_js = fout.getvalue()\n",
    "# print(model_js)"
   ]
  },
  {
   "cell_type": "code",
   "execution_count": 46,
   "metadata": {},
   "outputs": [],
   "source": [
    "y_train_hat = model.predict(X_train_dm)\n",
    "y_test_hat = model.predict(X_test_dm)"
   ]
  },
  {
   "cell_type": "markdown",
   "metadata": {},
   "source": [
    "Resulting Spearman corr on train set:"
   ]
  },
  {
   "cell_type": "code",
   "execution_count": 47,
   "metadata": {},
   "outputs": [
    {
     "data": {
      "text/html": [
       "<div>\n",
       "<style scoped>\n",
       "    .dataframe tbody tr th:only-of-type {\n",
       "        vertical-align: middle;\n",
       "    }\n",
       "\n",
       "    .dataframe tbody tr th {\n",
       "        vertical-align: top;\n",
       "    }\n",
       "\n",
       "    .dataframe thead th {\n",
       "        text-align: right;\n",
       "    }\n",
       "</style>\n",
       "<table border=\"1\" class=\"dataframe\">\n",
       "  <thead>\n",
       "    <tr style=\"text-align: right;\">\n",
       "      <th></th>\n",
       "      <th>y_train</th>\n",
       "      <th>y_train_hat</th>\n",
       "    </tr>\n",
       "  </thead>\n",
       "  <tbody>\n",
       "    <tr>\n",
       "      <th>y_train</th>\n",
       "      <td>1.000000</td>\n",
       "      <td>0.226744</td>\n",
       "    </tr>\n",
       "    <tr>\n",
       "      <th>y_train_hat</th>\n",
       "      <td>0.226744</td>\n",
       "      <td>1.000000</td>\n",
       "    </tr>\n",
       "  </tbody>\n",
       "</table>\n",
       "</div>"
      ],
      "text/plain": [
       "              y_train  y_train_hat\n",
       "y_train      1.000000     0.226744\n",
       "y_train_hat  0.226744     1.000000"
      ]
     },
     "execution_count": 47,
     "metadata": {},
     "output_type": "execute_result"
    }
   ],
   "source": [
    "pd.DataFrame({\"y_train\": y_train, \"y_train_hat\": y_train_hat}).corr(\"spearman\")"
   ]
  }
 ],
 "metadata": {
  "kernelspec": {
   "display_name": "spearman-proxy",
   "language": "python",
   "name": "python3"
  },
  "language_info": {
   "codemirror_mode": {
    "name": "ipython",
    "version": 3
   },
   "file_extension": ".py",
   "mimetype": "text/x-python",
   "name": "python",
   "nbconvert_exporter": "python",
   "pygments_lexer": "ipython3",
   "version": "3.11.4"
  },
  "orig_nbformat": 4
 },
 "nbformat": 4,
 "nbformat_minor": 2
}

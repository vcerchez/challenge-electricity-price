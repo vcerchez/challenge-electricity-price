{
 "cells": [
  {
   "cell_type": "code",
   "execution_count": 2,
   "metadata": {},
   "outputs": [],
   "source": [
    "# Step 1 import libraries and namespaces\n",
    " \n",
    "import pandas as pd\n",
    "import torch\n",
    " \n",
    "from torch.utils import data\n",
    " \n",
    "# `nn` is an abbreviation for neural networks\n",
    " \n",
    "from torch import nn"
   ]
  },
  {
   "cell_type": "code",
   "execution_count": 4,
   "metadata": {},
   "outputs": [],
   "source": [
    "#Step 2: Create Dataset\n",
    " \n",
    "#Define a function to generate noisy data\n",
    " \n",
    "def synthetic_data(m, c, num_examples):\n",
    " \n",
    "    \"\"\"Generate y = mX + bias(c) + noise\"\"\"\n",
    "    \n",
    "    X = torch.normal(0, 1, (num_examples, len(m)))\n",
    "    \n",
    "    y = torch.matmul(X, m) + c\n",
    "    \n",
    "    y += torch.normal(0, 0.01, y.shape)\n",
    "    \n",
    "    return X, y.reshape((-1, 1))\n",
    " \n",
    "\n",
    "true_m = torch.tensor([2, -3.4])\n",
    " \n",
    "true_c = 4.2\n",
    " \n",
    "features, labels = synthetic_data(true_m, true_c, 1000)"
   ]
  },
  {
   "cell_type": "code",
   "execution_count": 5,
   "metadata": {},
   "outputs": [
    {
     "data": {
      "text/plain": [
       "[tensor([[ 0.9599,  0.2716],\n",
       "         [-0.1660, -0.9827],\n",
       "         [ 0.3019, -0.4619],\n",
       "         [-1.0675,  0.7946],\n",
       "         [-0.7987, -0.4853],\n",
       "         [ 0.9335,  1.1235],\n",
       "         [ 2.3684,  0.3852],\n",
       "         [ 0.3144, -1.4910],\n",
       "         [ 0.1892,  0.6928],\n",
       "         [-0.4479,  0.4324]]),\n",
       " tensor([[ 5.1864],\n",
       "         [ 7.2172],\n",
       "         [ 6.3720],\n",
       "         [-0.6311],\n",
       "         [ 4.2494],\n",
       "         [ 2.2486],\n",
       "         [ 7.6322],\n",
       "         [ 9.8803],\n",
       "         [ 2.2020],\n",
       "         [ 1.8357]])]"
      ]
     },
     "execution_count": 5,
     "metadata": {},
     "output_type": "execute_result"
    }
   ],
   "source": [
    "#Step 3: Read dataset and create small batch\n",
    " \n",
    "#define a function to create a data iterator. Input is the features and labels from synthetic data\n",
    " \n",
    "# Output is iterable batched data using torch.utils.data.DataLoader\n",
    " \n",
    "def load_array(data_arrays, batch_size, is_train=True):\n",
    "    \n",
    "    \"\"\"Construct a PyTorch data iterator.\"\"\"\n",
    "    \n",
    "    dataset = data.TensorDataset(*data_arrays)\n",
    "    \n",
    "    return data.DataLoader(dataset, batch_size, shuffle=is_train)\n",
    " \n",
    "\n",
    " \n",
    "batch_size = 10\n",
    " \n",
    "data_iter = load_array((features, labels), batch_size)\n",
    " \n",
    "\n",
    " \n",
    "next(iter(data_iter))"
   ]
  },
  {
   "cell_type": "code",
   "execution_count": 6,
   "metadata": {},
   "outputs": [
    {
     "data": {
      "text/plain": [
       "tensor([0.])"
      ]
     },
     "execution_count": 6,
     "metadata": {},
     "output_type": "execute_result"
    }
   ],
   "source": [
    "#Step4: Define model &amp;amp;amp; initialization\n",
    " \n",
    "# Create a single layer feed-forward network with 2 inputs and 1 outputs.\n",
    " \n",
    "model = nn.Linear(2, 1)\n",
    " \n",
    "#Initialize model params\n",
    " \n",
    "model.weight.data.normal_(0, 0.01)\n",
    " \n",
    "model.bias.data.fill_(0)"
   ]
  },
  {
   "cell_type": "code",
   "execution_count": 7,
   "metadata": {},
   "outputs": [],
   "source": [
    "#Step 5: Define loss function\n",
    "# mean squared error loss function\n",
    "loss = nn.MSELoss()"
   ]
  },
  {
   "cell_type": "code",
   "execution_count": 8,
   "metadata": {},
   "outputs": [],
   "source": [
    "#Step 6: Define optimization algorithm\n",
    "# implements a stochastic gradient descent optimization method\n",
    "optimizer = torch.optim.SGD(model.parameters(), lr=0.03)"
   ]
  },
  {
   "cell_type": "code",
   "execution_count": 10,
   "metadata": {},
   "outputs": [
    {
     "name": "stdout",
     "output_type": "stream",
     "text": [
      "epoch 1, loss 0.000399\n",
      "epoch 2, loss 0.000102\n",
      "epoch 3, loss 0.000104\n",
      "epoch 4, loss 0.000103\n",
      "epoch 5, loss 0.000103\n"
     ]
    }
   ],
   "source": [
    " \n",
    "# Use complete training data for n epochs, iteratively using a minibatch features and corresponding label\n",
    " \n",
    "# For each minibatch:\n",
    " \n",
    "# &amp;nbsp; Compute predictions by calling net(X) and calculate the loss l\n",
    " \n",
    "# &amp;nbsp; Calculate gradients by running the backpropagation\n",
    " \n",
    "# &amp;nbsp; Update the model parameters using optimizer\n",
    " \n",
    "# &amp;nbsp; Compute the loss after each epoch and print it to monitor progress\n",
    " \n",
    "num_epochs = 5\n",
    " \n",
    "for epoch in range(num_epochs):\n",
    " \n",
    "    for X, y in data_iter:\n",
    " \n",
    "        l = loss(model(X) ,y)\n",
    " \n",
    "        optimizer.zero_grad() #sets gradients to zero\n",
    "    \n",
    "        l.backward() # back propagation\n",
    "    \n",
    "        optimizer.step() # parameter update\n",
    " \n",
    "    l = loss(model(features), labels)\n",
    " \n",
    "    print(f'epoch {epoch + 1}, loss {l:f}')"
   ]
  },
  {
   "cell_type": "code",
   "execution_count": 11,
   "metadata": {},
   "outputs": [
    {
     "name": "stdout",
     "output_type": "stream",
     "text": [
      "error in estimating m: tensor([ 8.1062e-06, -8.9788e-04])\n",
      "error in estimating c: tensor([0.0010])\n"
     ]
    }
   ],
   "source": [
    "#Results\n",
    "m = model.weight.data\n",
    "print('error in estimating m:', true_m - m.reshape(true_m.shape))\n",
    "c = model.bias.data\n",
    "print('error in estimating c:', true_c - c)"
   ]
  }
 ],
 "metadata": {
  "kernelspec": {
   "display_name": "spearman-proxy",
   "language": "python",
   "name": "python3"
  },
  "language_info": {
   "codemirror_mode": {
    "name": "ipython",
    "version": 3
   },
   "file_extension": ".py",
   "mimetype": "text/x-python",
   "name": "python",
   "nbconvert_exporter": "python",
   "pygments_lexer": "ipython3",
   "version": "3.11.4"
  },
  "orig_nbformat": 4
 },
 "nbformat": 4,
 "nbformat_minor": 2
}
